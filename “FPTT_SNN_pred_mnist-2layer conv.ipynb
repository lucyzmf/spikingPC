{
 "cells": [
  {
   "cell_type": "markdown",
   "metadata": {
    "id": "pwWpu3Fco57I",
    "pycharm": {
     "name": "#%% md\n"
    }
   },
   "source": [
    "## make a copy on your google drive, do not edit this notebook"
   ]
  },
  {
   "cell_type": "code",
   "execution_count": 1,
   "metadata": {
    "id": "iICGjdkgU4WM",
    "pycharm": {
     "name": "#%%\n"
    }
   },
   "outputs": [],
   "source": [
    "%matplotlib inline"
   ]
  },
  {
   "cell_type": "code",
   "execution_count": 2,
   "metadata": {
    "colab": {
     "base_uri": "https://localhost:8080/"
    },
    "id": "CAk-JWUcM8rZ",
    "outputId": "7e4dbeaa-277f-438b-9450-6866807ec328",
    "pycharm": {
     "name": "#%%\n"
    }
   },
   "outputs": [
    {
     "name": "stdout",
     "output_type": "stream",
     "text": [
      "Python 3.8.10\n"
     ]
    }
   ],
   "source": [
    "!python --version"
   ]
  },
  {
   "cell_type": "code",
   "execution_count": 3,
   "metadata": {
    "colab": {
     "base_uri": "https://localhost:8080/"
    },
    "id": "UVDsLECKU4Wc",
    "outputId": "703c3d83-358d-4c8c-e282-3a500a8a17f5",
    "pycharm": {
     "name": "#%%\n"
    }
   },
   "outputs": [
    {
     "name": "stderr",
     "output_type": "stream",
     "text": [
      "/home/yin/.local/lib/python3.8/site-packages/torchaudio/backend/utils.py:53: UserWarning: \"sox\" backend is being deprecated. The default backend will be changed to \"sox_io\" backend in 0.8.0 and \"sox\" backend will be removed in 0.9.0. Please migrate to \"sox_io\" backend. Please refer to https://github.com/pytorch/audio/issues/903 for the detail.\n",
      "  warnings.warn(\n"
     ]
    }
   ],
   "source": [
    "\n",
    "import torch\n",
    "import torch.nn as nn\n",
    "import torch.nn.functional as F\n",
    "import torch.optim as optim\n",
    "import torchaudio\n",
    "import sys\n",
    "\n",
    "import matplotlib.pyplot as plt\n",
    "import IPython.display as ipd\n",
    "\n",
    "from tqdm import tqdm"
   ]
  },
  {
   "cell_type": "code",
   "execution_count": 4,
   "metadata": {
    "colab": {
     "base_uri": "https://localhost:8080/"
    },
    "id": "IfDh30gHU4Wi",
    "outputId": "04b1bf53-d6f8-42e6-cb24-fcffe9cb3a9e",
    "pycharm": {
     "name": "#%%\n"
    }
   },
   "outputs": [
    {
     "name": "stdout",
     "output_type": "stream",
     "text": [
      "cuda\n"
     ]
    }
   ],
   "source": [
    "device = torch.device(\"cuda\" if torch.cuda.is_available() else \"cpu\")\n",
    "print(device)"
   ]
  },
  {
   "cell_type": "code",
   "execution_count": 5,
   "metadata": {
    "pycharm": {
     "name": "#%%\n"
    }
   },
   "outputs": [],
   "source": [
    "def weights_init(m):\n",
    "    classname = m.__class__.__name__\n",
    "    if classname.find('Conv') != -1:\n",
    "        torch.nn.init.xavier_normal_(m.weight)\n",
    "    elif classname.find('BatchNorm') != -1:\n",
    "        torch.nn.init.normal_(m.weight, 1.0, 0.02)\n",
    "        torch.nn.init.zeros_(m.bias)"
   ]
  },
  {
   "cell_type": "markdown",
   "metadata": {
    "id": "3h0EWmSbU4Wl",
    "pycharm": {
     "name": "#%% md\n"
    }
   },
   "source": [
    "Importing the Dataset\n",
    "---------------------\n",
    "\n",
    "import cifar10 dataset\n",
    "\n"
   ]
  },
  {
   "cell_type": "code",
   "execution_count": 6,
   "metadata": {
    "id": "cixFpOH3DYa_",
    "pycharm": {
     "name": "#%%\n"
    }
   },
   "outputs": [],
   "source": [
    "import torch\n",
    "import torchvision\n",
    "import torchvision.transforms as transforms\n",
    "\n",
    "transform = transforms.Compose(\n",
    "    [transforms.ToTensor(),transforms.Normalize((0.5,), (0.5,))])\n",
    "\n",
    "batch_size = 256\n",
    "\n",
    "trainset = torchvision.datasets.FashionMNIST(root='./data', train=True,\n",
    "                                        download=True, transform=transform)\n",
    "train_loader = torch.utils.data.DataLoader(trainset, batch_size=batch_size,\n",
    "                                          shuffle=True, num_workers=2)\n",
    "\n",
    "testset = torchvision.datasets.FashionMNIST(root='./data', train=False,\n",
    "                                       download=True, transform=transform)\n",
    "test_loader = torch.utils.data.DataLoader(testset, batch_size=batch_size,\n",
    "                                         shuffle=False, num_workers=2)\n",
    "\n",
    "classes = [str(i) for i in range(10)]\n"
   ]
  },
  {
   "cell_type": "code",
   "execution_count": 7,
   "metadata": {
    "colab": {
     "base_uri": "https://localhost:8080/"
    },
    "id": "4k6QLeQ_IYW0",
    "outputId": "c26c0bb0-850d-4632-c4fb-226f0829c717",
    "pycharm": {
     "name": "#%%\n"
    }
   },
   "outputs": [
    {
     "name": "stdout",
     "output_type": "stream",
     "text": [
      "torch.Size([256, 1, 28, 28])\n"
     ]
    }
   ],
   "source": [
    "for batch_idx, (data, target) in enumerate(train_loader):\n",
    "    print(data.shape)\n",
    "    break"
   ]
  },
  {
   "cell_type": "code",
   "execution_count": 8,
   "metadata": {
    "id": "ATJJVqdB9w3_",
    "pycharm": {
     "name": "#%%\n"
    }
   },
   "outputs": [],
   "source": [
    "IN_dim = 28*28\n",
    "T = 20"
   ]
  },
  {
   "cell_type": "markdown",
   "metadata": {
    "id": "2sycRGkyU4YU",
    "pycharm": {
     "name": "#%% md\n"
    }
   },
   "source": [
    "Define the Network\n",
    "------------------\n",
    "\n",
    "<!-- For this tutorial we will use a convolutional neural network to process\n",
    "the raw audio data. Usually more advanced transforms are applied to the\n",
    "audio data, however CNNs can be used to accurately process the raw data.\n",
    "The specific architecture is modeled after the M5 network architecture\n",
    "described in `this paper <https://arxiv.org/pdf/1610.00087.pdf>`__. An\n",
    "important aspect of models processing raw audio data is the receptive\n",
    "field of their first layer’s filters. Our model’s first filter is length\n",
    "80 so when processing audio sampled at 8kHz the receptive field is\n",
    "around 10ms (and at 4kHz, around 20 ms). This size is similar to speech\n",
    "processing applications that often use receptive fields ranging from\n",
    "20ms to 40ms. -->\n",
    "\n",
    "\n"
   ]
  },
  {
   "cell_type": "code",
   "execution_count": 9,
   "metadata": {
    "id": "g6bJZrQMU4Ya",
    "pycharm": {
     "name": "#%%\n"
    }
   },
   "outputs": [],
   "source": [
    "\"\"\"\n",
    "Liquid time constant snn\n",
    "\"\"\"\n",
    "import os\n",
    "import shutil\n",
    "import torch\n",
    "from torch import nn\n",
    "from torch.nn.parameter import Parameter\n",
    "import torch.nn.functional as F\n",
    "from torch.nn import init\n",
    "from torch.autograd import Variable\n",
    "import math\n",
    "def create_exp_dir(path, scripts_to_save=None):\n",
    "    if not os.path.exists(path):\n",
    "        os.mkdir(path)\n",
    "\n",
    "    print('Experiment dir : {}'.format(path))\n",
    "    if scripts_to_save is not None:\n",
    "        os.mkdir(os.path.join(path, 'scripts'))\n",
    "        for script in scripts_to_save:\n",
    "            dst_file = os.path.join(path, 'scripts', os.path.basename(script))\n",
    "            shutil.copyfile(script, dst_file)\n",
    "            \n",
    "\n",
    "def model_save(fn, model, criterion, optimizer):\n",
    "    with open(fn, 'wb') as f:\n",
    "        torch.save([model, criterion, optimizer], f)\n",
    "\n",
    "def model_load(fn):\n",
    "    with open(fn, 'rb') as f:\n",
    "        model, criterion, optimizer = torch.load(f)\n",
    "    return model, criterion, optimizer\n",
    "\n",
    "def save_checkpoint(state, is_best, prefix, filename='_rec2_bias_checkpoint.pth.tar'):\n",
    "    print('saving at ', prefix+filename)\n",
    "    torch.save(state, prefix+filename)\n",
    "    if is_best:\n",
    "        shutil.copyfile(prefix+filename, prefix+ '_rec2_bias_model_best.pth.tar')\n",
    "\n",
    "\n",
    "def count_parameters(model):\n",
    "    return sum(p.numel() for p in model.network.parameters() if p.requires_grad)\n",
    "\n",
    "###############################################################################################\n",
    "###############################    Define SNN layer   #########################################\n",
    "###############################################################################################\n",
    "N_pop = 10\n",
    "\n",
    "b_j0 = 0.01  # neural threshold baseline\n",
    "R_m = 3  # membrane resistance\n",
    "dt = 1  \n",
    "gamma = .5  # gradient scale\n",
    "lens = 0.5\n",
    "\n",
    "def gaussian(x, mu=0., sigma=.5):\n",
    "    return torch.exp(-((x - mu) ** 2) / (2 * sigma ** 2)) / torch.sqrt(2 * torch.tensor(math.pi)) / sigma\n",
    "\n",
    "\n",
    "class ActFun_adp(torch.autograd.Function):\n",
    "    @staticmethod\n",
    "    def forward(ctx, input):  # input = membrane potential- threshold\n",
    "        ctx.save_for_backward(input)\n",
    "        return input.gt(0).float()  # is firing ???\n",
    "\n",
    "    @staticmethod\n",
    "    def backward(ctx, grad_output):  # approximate the gradients\n",
    "        input, = ctx.saved_tensors\n",
    "        grad_input = grad_output.clone()\n",
    "        # temp = abs(input) < lens\n",
    "        scale = 6.0\n",
    "        hight = .15\n",
    "        # temp = torch.exp(-(input**2)/(2*lens**2))/torch.sqrt(2*torch.tensor(math.pi))/lens\n",
    "        temp = gaussian(input, mu=0., sigma=lens) * (1. + hight) \\\n",
    "               - gaussian(input, mu=lens, sigma=scale * lens) * hight \\\n",
    "               - gaussian(input, mu=-lens, sigma=scale * lens) * hight\n",
    "        # temp =  gaussian(input, mu=0., sigma=lens)\n",
    "        return grad_input * temp.float() #* gamma\n",
    "        # return grad_input\n",
    "\n",
    "\n",
    "act_fun_adp = ActFun_adp.apply\n",
    "\n",
    "# def mem_update_adp(inputs, mem, spike, tau_adp,tau_m, b, dt=1, isAdapt=0):\n",
    "#     alpha = tau_m\n",
    "    \n",
    "#     ro = tau_adp\n",
    "#     # alpha = torch.exp(-1. * dt / tau_m).cuda()\n",
    "#     # ro = torch.exp(-1. * dt / tau_adp).cuda()\n",
    "\n",
    "#     if isAdapt:\n",
    "#         beta = .18\n",
    "#     else:\n",
    "#         beta = 0.\n",
    "\n",
    "#     b = ro * b + (1 - ro) * spike\n",
    "#     B = b_j0 + beta * b\n",
    "    \n",
    "\n",
    "#     d_mem = -mem + inputs\n",
    "#     mem = mem + d_mem*alpha\n",
    "#     inputs_ = mem - B\n",
    "\n",
    "#     spike = act_fun_adp(inputs_)  # act_fun : approximation firing function\n",
    "#     mem = (1-spike)*mem\n",
    "\n",
    "#     return mem, spike, B, b\n",
    "\n",
    "def mem_update_adp(inputs, mem, spike, tau_adp, tau_m,b, dt=1, isAdapt=1):\n",
    "    # alpha = torch.exp(-1. * dt / tau_m).cuda()\n",
    "    # ro = torch.exp(-1. * dt / tau_adp).cuda()\n",
    "    alpha = tau_m\n",
    "    ro = tau_adp\n",
    "    if isAdapt:\n",
    "        beta = 1.8\n",
    "    else:\n",
    "        beta = 0.\n",
    "    b = ro * b + (1. - ro) * spike\n",
    "    B = b_j0 + beta * b\n",
    "\n",
    "    mem = mem * alpha + (1 - alpha) * R_m * inputs #- B * spike * dt\n",
    "    inputs_ = mem - B\n",
    "    spike = act_fun_adp(inputs_)  # act_fun : approximation firing function\n",
    "    # spike = F.relu(inputs)\n",
    "    mem = (1-spike)*mem\n",
    "    return mem, spike, B, b\n",
    "\n",
    "\n",
    "def output_Neuron(inputs, mem, tau_m, dt=1):\n",
    "    \"\"\"\n",
    "    The read out neuron is leaky integrator without spike\n",
    "    \"\"\"\n",
    "    d_mem = -mem  +  inputs\n",
    "    mem = mem+inputs*tau_m\n",
    "    return mem\n",
    "\n",
    "\n",
    "###############################################################################################\n",
    "###############################################################################################\n",
    "###############################################################################################\n",
    "class SNN_rec_cell(nn.Module):\n",
    "    def __init__(self, input_size, hidden_size,is_rec = False,is_LTC=False):\n",
    "        super(SNN_rec_cell, self).__init__()\n",
    "        \n",
    "        self.input_size = input_size\n",
    "        self.hidden_size = hidden_size \n",
    "        self.is_rec = is_rec\n",
    "        self.is_LTC = is_LTC\n",
    "        \n",
    "\n",
    "        if is_rec:\n",
    "            self.layer1_x = nn.Linear(input_size, hidden_size)\n",
    "            self.layer1_r = nn.Linear(hidden_size, hidden_size)\n",
    "\n",
    "        else:\n",
    "            self.layer1_x = nn.Linear(input_size, hidden_size)\n",
    "            \n",
    "        \n",
    "        # time-constant definiation and initilization \n",
    "        if is_LTC:\n",
    "            self.layer1_tauAdp = nn.Linear(2*hidden_size, hidden_size)\n",
    "            self.layer1_tauM = nn.Linear(2*hidden_size, hidden_size)\n",
    "            nn.init.xavier_uniform_(self.layer1_tauAdp.weight)\n",
    "            nn.init.xavier_uniform_(self.layer1_tauM.weight)\n",
    "        else:\n",
    "            self.tau_adp = nn.Parameter(torch.Tensor(hidden_size))\n",
    "            self.tau_m =nn.Parameter(torch.Tensor(hidden_size))\n",
    "            nn.init.normal_(self.tau_adp, 4.8,.1)\n",
    "            nn.init.normal_(self.tau_m, 3.,.1)\n",
    "            # nn.init.constant_(self.tau_adp, 200)\n",
    "            # nn.init.constant_(self.tau_m, 20)\n",
    "        self.act1 = nn.Sigmoid()\n",
    "        self.act2 = nn.Sigmoid()\n",
    "\n",
    "        \n",
    "    \n",
    "        nn.init.xavier_uniform_(self.layer1_x.weight)\n",
    "        if is_rec: nn.init.xavier_uniform_(self.layer1_r.weight)\n",
    "        \n",
    "\n",
    "    def forward(self, x_t, mem_t,spk_t,b_t,is_dirI=False):    \n",
    "        if self.is_rec:\n",
    "            if is_dirI:\n",
    "                dense_x = x_t + self.layer1_r(spk_t)\n",
    "            else:\n",
    "                dense_x = self.layer1_x(x_t) + self.layer1_r(spk_t) \n",
    "        else:\n",
    "            dense_x = self.layer1_x(x_t)\n",
    "\n",
    "        if self.is_LTC:\n",
    "            tauM1 = self.act1(self.layer1_tauM(torch.cat((dense_x,mem_t),dim=-1)))\n",
    "            tauAdp1 = self.act1(self.layer1_tauAdp(torch.cat((dense_x,b_t),dim=-1)))\n",
    "        else:\n",
    "            tauM1 = self.act1(self.tau_m)\n",
    "            tauAdp1 = self.act2(self.tau_adp)\n",
    "            # tauM1 = self.tau_m\n",
    "            # tauAdp1 = self.tau_adp\n",
    "\n",
    "        mem_1,spk_1,_,b_1 = mem_update_adp(dense_x, mem=mem_t,spike=spk_t,\n",
    "                                        tau_adp=tauAdp1,tau_m=tauM1,b =b_t)\n",
    "\n",
    "        return mem_1,spk_1,b_1\n",
    "\n",
    "    def compute_output_size(self):\n",
    "        return [self.hidden_size]\n",
    "\n",
    "class SNN(nn.Module):\n",
    "    def __init__(self, input_size, hidden_size,output_size,is_LTC=False):\n",
    "        super(SNN, self).__init__()\n",
    "        \n",
    "        self.input_size = input_size\n",
    "        self.hidden_size = hidden_size \n",
    "        self.output_size = output_size\n",
    "        \n",
    "        self.convs = nn.Sequential(nn.Conv2d(1,16,3),\n",
    "                                nn.BatchNorm2d(16),\n",
    "                                nn.ReLU(),\n",
    "                                nn.Conv2d(16,16,3),\n",
    "                                nn.BatchNorm2d(16),\n",
    "                                nn.ReLU(),\n",
    "                                nn.Conv2d(16,16,3,1,1),\n",
    "                                nn.BatchNorm2d(16),\n",
    "                                nn.ReLU(),\n",
    "                                nn.MaxPool2d(2),\n",
    "                                \n",
    "                                nn.Conv2d(16,32,3),\n",
    "                                nn.BatchNorm2d(32),\n",
    "                                nn.ReLU(),\n",
    "                                nn.Conv2d(32,32,3),\n",
    "                                nn.BatchNorm2d(32),\n",
    "                                nn.ReLU(),\n",
    "                                nn.Conv2d(32,32,3,1,1),\n",
    "                                nn.BatchNorm2d(32),\n",
    "                                nn.ReLU(),\n",
    "                                nn.MaxPool2d(2)\n",
    "                                )\n",
    "\n",
    "        self.rnn_name = 'SNN: is_LTC-'+str(is_LTC)\n",
    "\n",
    "        self.snn_h = SNN_rec_cell(input_size,hidden_size,False,is_LTC)\n",
    "\n",
    "        self.snn_r = SNN_rec_cell(hidden_size,hidden_size,True,is_LTC)\n",
    "\n",
    "        self.snn_p = SNN_rec_cell(hidden_size,10*N_pop,True,is_LTC)\n",
    "        self.p2r = nn.Linear(10*N_pop,hidden_size)\n",
    "        nn.init.constant_(self.p2r.weight,0.)\n",
    "\n",
    "        self.bridge1 = nn.Linear(10*N_pop,hidden_size)\n",
    "\n",
    "        self.snn_r2 = SNN_rec_cell(hidden_size,hidden_size,True,is_LTC)\n",
    "\n",
    "        self.snn_p2 = SNN_rec_cell(hidden_size,10*N_pop,True,is_LTC)\n",
    "        self.p2r_2 = nn.Linear(10*N_pop,hidden_size)\n",
    "        # nn.init.constant_(self.p2r_2.weight,0.)\n",
    "        nn.init.xavier_normal(self.p2r_2.weight)\n",
    "    \n",
    "        self.tau_m_o = nn.Parameter(torch.Tensor(output_size))\n",
    "\n",
    "        nn.init.constant_(self.tau_m_o, 0.5)\n",
    "        # nn.init.xavier_uniform_(self.layer3_x.weight)\n",
    "        # nn.init.zeros_(self.layer3_tauM.weight)\n",
    "        self.act3 = nn.Sigmoid()\n",
    "    \n",
    "\n",
    "        self.dp1 = nn.Dropout(0.1)#.1\n",
    "        self.dp2 = nn.Dropout(0.1)\n",
    "        self.dp3 = nn.Dropout(0.1)\n",
    "        self.fr = 0\n",
    "        \n",
    "    def forward(self, inputs, h):\n",
    "        \n",
    "        \n",
    "        # outputs = []\n",
    "        hiddens = []\n",
    " \n",
    "        b,_,d1,d2,= inputs.shape\n",
    "        t = 1\n",
    "        for x_i in range(t):\n",
    "            x_down = inputs.float()#reshape(b,self.input_size).float()\n",
    "            x_down =  F.dropout(x_down,0.2,training=True)\n",
    "            x_down = self.convs(x_down).view(b,-1)\n",
    "            # print(x_down.shape)\n",
    "\n",
    "            mem_h,spk_h,b_h = self.snn_h(x_down, mem_t=h[0],spk_t=h[1],b_t = h[2])\n",
    "            \n",
    "            r_input = x_down + self.p2r(h[7])\n",
    "            mem_r,spk_r,b_r = self.snn_r(r_input, mem_t=h[3],spk_t=h[4],b_t = h[5],is_dirI=True)\n",
    "            p_input = spk_r\n",
    "            mem_p,spk_p,b_p = self.snn_p(p_input, mem_t=h[6],spk_t=h[7],b_t = h[8])\n",
    "\n",
    "            r_input2 = self.bridge1(spk_p) + self.p2r_2(h[13])\n",
    "            mem_r2,spk_r2,b_r2 = self.snn_r2(r_input2, mem_t=h[9],spk_t=h[10],b_t = h[11],is_dirI=True)\n",
    "            p_input2 = spk_r2\n",
    "            mem_p2,spk_p2,b_p2 = self.snn_p2(p_input2, mem_t=h[12],spk_t=h[13],b_t = h[14])\n",
    "\n",
    "       \n",
    "            dense3_x_avg = F.avg_pool1d(spk_p2.reshape(-1,1,10*N_pop),N_pop,N_pop)[:,0,:]\n",
    "          \n",
    "            tauM2 = self.tau_m_o\n",
    "            mem_out = output_Neuron(dense3_x_avg,mem=h[-2],tau_m = tauM2)\n",
    "\n",
    "            out =mem_out\n",
    "            self.fr = self.fr+ spk_h.detach().cpu().numpy().mean()/2.\\\n",
    "                + spk_r.detach().cpu().numpy().mean()/2.\n",
    "\n",
    "        h = (mem_h,spk_h,b_h, \n",
    "            mem_r,spk_r,b_r, \n",
    "            mem_p,spk_p,b_p, \n",
    "            mem_r2,spk_r2,b_r2, \n",
    "            mem_p2,spk_p2,b_p2, \n",
    "            mem_out,\n",
    "            out)\n",
    "\n",
    "        f_output = F.log_softmax(out, dim=1)\n",
    "        hiddens.append(h)\n",
    "\n",
    "        \n",
    "        final_state = h\n",
    "        return f_output, final_state, hiddens\n",
    "\n",
    "class SeqModel(nn.Module):\n",
    "    def __init__(self, ninp, nhid, nout,is_rec=True,is_LTC = True):\n",
    "\n",
    "        super(SeqModel, self).__init__()\n",
    "        self.nout = nout    # Should be the number of classes\n",
    "        self.nhid = nhid\n",
    "        self.is_rec = is_rec\n",
    "        self.is_LTC= is_LTC\n",
    "\n",
    "        self.network = SNN(input_size=ninp, hidden_size=nhid, output_size=nout)\n",
    "        \n",
    "\n",
    "    def forward(self, inputs, hidden):\n",
    "      \n",
    "        t = T\n",
    "        # print(inputs.shape) # L,B,d\n",
    "        outputs = []\n",
    "        for i in range(t):\n",
    "            f_output, hidden, hiddens= self.network.forward(inputs, hidden)\n",
    "            outputs.append(f_output)\n",
    "        return outputs, hidden\n",
    "\n",
    "    def init_hidden(self, bsz):\n",
    "        weight = next(self.parameters()).data\n",
    "        return (weight.new(bsz,self.nhid).uniform_(),\n",
    "                weight.new(bsz,self.nhid).zero_(),\n",
    "                weight.new(bsz,self.nhid).fill_(b_j0),\n",
    "                # representation\n",
    "                weight.new(bsz,self.nhid).zero_(),\n",
    "                weight.new(bsz,self.nhid).zero_(),\n",
    "                weight.new(bsz,self.nhid).fill_(b_j0),\n",
    "                # prediction\n",
    "                weight.new(bsz,10*N_pop).zero_(),\n",
    "                weight.new(bsz,10*N_pop).zero_(),\n",
    "                weight.new(bsz,10*N_pop).fill_(b_j0),\n",
    "                # representation2\n",
    "                weight.new(bsz,self.nhid).zero_(),\n",
    "                weight.new(bsz,self.nhid).zero_(),\n",
    "                weight.new(bsz,self.nhid).fill_(b_j0),\n",
    "                # prediction2\n",
    "                weight.new(bsz,10*N_pop).zero_(),\n",
    "                weight.new(bsz,10*N_pop).zero_(),\n",
    "                weight.new(bsz,10*N_pop).fill_(b_j0),\n",
    "                # layer out\n",
    "                weight.new(bsz,self.nout).uniform_(),\n",
    "                # sum spike\n",
    "                weight.new(bsz,self.nout).zero_(),\n",
    "                )\n",
    "\n",
    "\n"
   ]
  },
  {
   "attachments": {},
   "cell_type": "markdown",
   "metadata": {
    "pycharm": {
     "name": "#%% md\n"
    }
   },
   "source": [
    "### cat instead of sum"
   ]
  },
  {
   "cell_type": "code",
   "execution_count": 10,
   "metadata": {
    "pycharm": {
     "name": "#%%\n"
    }
   },
   "outputs": [],
   "source": [
    "# \"\"\"\n",
    "# Liquid time constant snn\n",
    "# \"\"\"\n",
    "# import os\n",
    "# import shutil\n",
    "# import torch\n",
    "# from torch import nn\n",
    "# from torch.nn.parameter import Parameter\n",
    "# import torch.nn.functional as F\n",
    "# from torch.nn import init\n",
    "# from torch.autograd import Variable\n",
    "# import math\n",
    "# def create_exp_dir(path, scripts_to_save=None):\n",
    "#     if not os.path.exists(path):\n",
    "#         os.mkdir(path)\n",
    "\n",
    "#     print('Experiment dir : {}'.format(path))\n",
    "#     if scripts_to_save is not None:\n",
    "#         os.mkdir(os.path.join(path, 'scripts'))\n",
    "#         for script in scripts_to_save:\n",
    "#             dst_file = os.path.join(path, 'scripts', os.path.basename(script))\n",
    "#             shutil.copyfile(script, dst_file)\n",
    "            \n",
    "\n",
    "# def model_save(fn, model, criterion, optimizer):\n",
    "#     with open(fn, 'wb') as f:\n",
    "#         torch.save([model, criterion, optimizer], f)\n",
    "\n",
    "# def model_load(fn):\n",
    "#     with open(fn, 'rb') as f:\n",
    "#         model, criterion, optimizer = torch.load(f)\n",
    "#     return model, criterion, optimizer\n",
    "\n",
    "# def save_checkpoint(state, is_best, prefix, filename='_rec2_bias_checkpoint.pth.tar'):\n",
    "#     print('saving at ', prefix+filename)\n",
    "#     torch.save(state, prefix+filename)\n",
    "#     if is_best:\n",
    "#         shutil.copyfile(prefix+filename, prefix+ '_rec2_bias_model_best.pth.tar')\n",
    "\n",
    "\n",
    "# def count_parameters(model):\n",
    "#     return sum(p.numel() for p in model.network.parameters() if p.requires_grad)\n",
    "\n",
    "# ###############################################################################################\n",
    "# ###############################    Define SNN layer   #########################################\n",
    "# ###############################################################################################\n",
    "# N_pop = 10\n",
    "\n",
    "# b_j0 = 0.01  # neural threshold baseline\n",
    "# R_m = 1  # membrane resistance\n",
    "# dt = 1  \n",
    "# gamma = .5  # gradient scale\n",
    "# lens = 0.5\n",
    "\n",
    "# def gaussian(x, mu=0., sigma=.5):\n",
    "#     return torch.exp(-((x - mu) ** 2) / (2 * sigma ** 2)) / torch.sqrt(2 * torch.tensor(math.pi)) / sigma\n",
    "\n",
    "\n",
    "# class ActFun_adp(torch.autograd.Function):\n",
    "#     @staticmethod\n",
    "#     def forward(ctx, input):  # input = membrane potential- threshold\n",
    "#         ctx.save_for_backward(input)\n",
    "#         return input.gt(0).float()  # is firing ???\n",
    "\n",
    "#     @staticmethod\n",
    "#     def backward(ctx, grad_output):  # approximate the gradients\n",
    "#         input, = ctx.saved_tensors\n",
    "#         grad_input = grad_output.clone()\n",
    "#         # temp = abs(input) < lens\n",
    "#         scale = 6.0\n",
    "#         hight = .15\n",
    "#         # temp = torch.exp(-(input**2)/(2*lens**2))/torch.sqrt(2*torch.tensor(math.pi))/lens\n",
    "#         temp = gaussian(input, mu=0., sigma=lens) * (1. + hight) \\\n",
    "#                - gaussian(input, mu=lens, sigma=scale * lens) * hight \\\n",
    "#                - gaussian(input, mu=-lens, sigma=scale * lens) * hight\n",
    "#         # temp =  gaussian(input, mu=0., sigma=lens)\n",
    "#         return grad_input * temp.float() #* gamma\n",
    "#         # return grad_input\n",
    "\n",
    "\n",
    "# act_fun_adp = ActFun_adp.apply\n",
    "\n",
    "# # def mem_update_adp(inputs, mem, spike, tau_adp,tau_m, b, dt=1, isAdapt=0):\n",
    "# #     alpha = tau_m\n",
    "    \n",
    "# #     ro = tau_adp\n",
    "# #     # alpha = torch.exp(-1. * dt / tau_m).cuda()\n",
    "# #     # ro = torch.exp(-1. * dt / tau_adp).cuda()\n",
    "\n",
    "# #     if isAdapt:\n",
    "# #         beta = .18\n",
    "# #     else:\n",
    "# #         beta = 0.\n",
    "\n",
    "# #     b = ro * b + (1 - ro) * spike\n",
    "# #     B = b_j0 + beta * b\n",
    "    \n",
    "\n",
    "# #     d_mem = -mem + inputs\n",
    "# #     mem = mem + d_mem*alpha\n",
    "# #     inputs_ = mem - B\n",
    "\n",
    "# #     spike = act_fun_adp(inputs_)  # act_fun : approximation firing function\n",
    "# #     mem = (1-spike)*mem\n",
    "\n",
    "# #     return mem, spike, B, b\n",
    "\n",
    "# def mem_update_adp(inputs, mem, spike, tau_adp, tau_m,b, dt=1, isAdapt=1):\n",
    "#     # alpha = torch.exp(-1. * dt / tau_m).cuda()\n",
    "#     # ro = torch.exp(-1. * dt / tau_adp).cuda()\n",
    "#     alpha = tau_m\n",
    "#     ro = tau_adp\n",
    "#     if isAdapt:\n",
    "#         beta = 1.8\n",
    "#     else:\n",
    "#         beta = 0.\n",
    "#     b = ro * b + (1. - ro) * spike\n",
    "#     B = b_j0 + beta * b\n",
    "\n",
    "#     mem = mem * alpha + (1 - alpha) * R_m * inputs #- B * spike * dt\n",
    "#     inputs_ = mem - B\n",
    "#     spike = act_fun_adp(inputs_)  # act_fun : approximation firing function\n",
    "#     # spike = F.relu(inputs_)\n",
    "#     mem = (1-spike)*mem\n",
    "#     return mem, spike, B, b\n",
    "\n",
    "\n",
    "# def output_Neuron(inputs, mem, tau_m, dt=1):\n",
    "#     \"\"\"\n",
    "#     The read out neuron is leaky integrator without spike\n",
    "#     \"\"\"\n",
    "#     d_mem = -mem  +  inputs\n",
    "#     mem = mem+inputs*tau_m\n",
    "#     return mem\n",
    "\n",
    "\n",
    "# ###############################################################################################\n",
    "# ###############################################################################################\n",
    "# ###############################################################################################\n",
    "# class SNN_rec_cell(nn.Module):\n",
    "#     def __init__(self, input_size, hidden_size,is_rec = False,is_LTC=False):\n",
    "#         super(SNN_rec_cell, self).__init__()\n",
    "        \n",
    "#         self.input_size = input_size\n",
    "#         self.hidden_size = hidden_size \n",
    "#         self.is_rec = is_rec\n",
    "#         self.is_LTC = is_LTC\n",
    "        \n",
    "\n",
    "#         if is_rec:\n",
    "#             self.layer1_x = nn.Linear(input_size, hidden_size)\n",
    "#             self.layer1_r = nn.Linear(hidden_size, hidden_size)\n",
    "\n",
    "#         else:\n",
    "#             self.layer1_x = nn.Linear(input_size, hidden_size)\n",
    "            \n",
    "        \n",
    "#         # time-constant definiation and initilization \n",
    "#         if is_LTC:\n",
    "#             self.layer1_tauAdp = nn.Linear(2*hidden_size, hidden_size)\n",
    "#             self.layer1_tauM = nn.Linear(2*hidden_size, hidden_size)\n",
    "#             nn.init.xavier_uniform_(self.layer1_tauAdp.weight)\n",
    "#             nn.init.xavier_uniform_(self.layer1_tauM.weight)\n",
    "#         else:\n",
    "#             self.tau_adp = nn.Parameter(torch.Tensor(hidden_size))\n",
    "#             self.tau_m =nn.Parameter(torch.Tensor(hidden_size))\n",
    "#             nn.init.normal_(self.tau_adp, 4.8,.1)\n",
    "#             nn.init.normal_(self.tau_m, 3.,.1)\n",
    "#             # nn.init.constant_(self.tau_adp, 200)\n",
    "#             # nn.init.constant_(self.tau_m, 20)\n",
    "#         self.act1 = nn.Sigmoid()\n",
    "#         self.act2 = nn.Sigmoid()\n",
    "\n",
    "        \n",
    "    \n",
    "#         nn.init.xavier_uniform_(self.layer1_x.weight)\n",
    "#         if is_rec: nn.init.xavier_uniform_(self.layer1_r.weight)\n",
    "        \n",
    "\n",
    "#     def forward(self, x_t, mem_t,spk_t,b_t):    \n",
    "#         if self.is_rec:\n",
    "#             # print(x_t.shape,spk_t.shape)\n",
    "#             dense_x = self.layer1_x(x_t) + self.layer1_r(spk_t) \n",
    "#         else:\n",
    "#             dense_x = self.layer1_x(x_t)\n",
    "\n",
    "#         if self.is_LTC:\n",
    "#             tauM1 = self.act1(self.layer1_tauM(torch.cat((dense_x,mem_t),dim=-1)))\n",
    "#             tauAdp1 = self.act1(self.layer1_tauAdp(torch.cat((dense_x,b_t),dim=-1)))\n",
    "#         else:\n",
    "#             tauM1 = self.act1(self.tau_m)\n",
    "#             tauAdp1 = self.act2(self.tau_adp)\n",
    "#             # tauM1 = self.tau_m\n",
    "#             # tauAdp1 = self.tau_adp\n",
    "\n",
    "#         mem_1,spk_1,_,b_1 = mem_update_adp(dense_x, mem=mem_t,spike=spk_t,\n",
    "#                                         tau_adp=tauAdp1,tau_m=tauM1,b =b_t)\n",
    "\n",
    "#         return mem_1,spk_1,b_1\n",
    "\n",
    "#     def compute_output_size(self):\n",
    "#         return [self.hidden_size]\n",
    "\n",
    "# class SNN(nn.Module):\n",
    "#     def __init__(self, input_size, hidden_size,output_size,is_LTC=False):\n",
    "#         super(SNN, self).__init__()\n",
    "        \n",
    "#         self.input_size = input_size\n",
    "#         self.hidden_size = hidden_size \n",
    "#         self.output_size = output_size\n",
    "        \n",
    "#         self.rnn_name = 'SNN: is_LTC-'+str(is_LTC)\n",
    "\n",
    "#         self.convs = nn.Sequential(nn.Conv2d(1,16,3),\n",
    "#                                 nn.BatchNorm2d(16),\n",
    "#                                 nn.ReLU(),\n",
    "#                                 nn.Conv2d(16,16,3),\n",
    "#                                 nn.BatchNorm2d(16),\n",
    "#                                 nn.ReLU(),\n",
    "#                                 nn.MaxPool2d(2),\n",
    "                                \n",
    "#                                 nn.Conv2d(16,32,3),\n",
    "#                                 nn.BatchNorm2d(32),\n",
    "#                                 nn.ReLU(),\n",
    "#                                 nn.Conv2d(32,32,3),\n",
    "#                                 nn.BatchNorm2d(32),\n",
    "#                                 nn.ReLU(),\n",
    "#                                 nn.MaxPool2d(2)\n",
    "#                                 )\n",
    "\n",
    "#         self.snn_h = SNN_rec_cell(input_size,hidden_size,False,is_LTC)\n",
    "\n",
    "#         self.snn_r = SNN_rec_cell(hidden_size+10*N_pop,hidden_size,True,is_LTC)\n",
    "#         self.snn_p = SNN_rec_cell(hidden_size,10*N_pop,True,is_LTC)\n",
    "#         # self.p2r = nn.Linear(10*N_pop,hidden_size)\n",
    "#         # nn.init.constant_(self.p2r.weight,0.)\n",
    "\n",
    "#         self.snn_r2 = SNN_rec_cell(20*N_pop,hidden_size,True,is_LTC)\n",
    "#         self.snn_p2 = SNN_rec_cell(hidden_size,10*N_pop,True,is_LTC)\n",
    "#         # self.p2r_2 = nn.Linear(10*N_pop,hidden_size)\n",
    "#         # # nn.init.constant_(self.p2r_2.weight,0.)\n",
    "#         # nn.init.xavier_normal(self.p2r_2.weight)\n",
    "    \n",
    "#         self.tau_m_o = nn.Parameter(torch.Tensor(output_size))\n",
    "\n",
    "#         nn.init.constant_(self.tau_m_o, 0.5)\n",
    "#         # nn.init.xavier_uniform_(self.layer3_x.weight)\n",
    "#         # nn.init.zeros_(self.layer3_tauM.weight)\n",
    "#         self.act3 = nn.Sigmoid()\n",
    "    \n",
    "\n",
    "#         self.dp1 = nn.Dropout(0.1)#.1\n",
    "#         self.dp2 = nn.Dropout(0.1)\n",
    "#         self.dp3 = nn.Dropout(0.1)\n",
    "#         self.fr = 0\n",
    "        \n",
    "#     def forward(self, inputs, h):\n",
    "        \n",
    "        \n",
    "#         # outputs = []\n",
    "#         hiddens = []\n",
    " \n",
    "#         b,in_dim,d1,d2= inputs.shape\n",
    "#         t = 1\n",
    "#         for x_i in range(t):\n",
    "#             x_down = inputs.float()#reshape(b,self.input_size).float()\n",
    "#             # x_down =  F.dropout(x_down,0.2,training=True)\n",
    "#             x_down = self.convs(x_down).view(b,-1)\n",
    "#             # print(x_down.shape)\n",
    "\n",
    "#             mem_h,spk_h,b_h = self.snn_h(x_down, mem_t=h[0],spk_t=h[1],b_t = h[2])\n",
    "            \n",
    "#             r_input = torch.cat((x_down,h[7]),dim=-1)#spk_h + self.p2r(h[7])\n",
    "#             mem_r,spk_r,b_r = self.snn_r(r_input, mem_t=h[3],spk_t=h[4],b_t = h[5])\n",
    "#             p_input = spk_r\n",
    "#             mem_p,spk_p,b_p = self.snn_p(p_input, mem_t=h[6],spk_t=h[7],b_t = h[8])\n",
    "\n",
    "#             r_input2 = torch.cat((spk_p,h[13]),dim=-1)#-self.p2r(spk_p) + self.p2r_2(h[13])\n",
    "#             # print('r: ',r_input.shape,r_input2.shape)\n",
    "#             mem_r2,spk_r2,b_r2 = self.snn_r2(r_input2, mem_t=h[9],spk_t=h[10],b_t = h[11])\n",
    "#             p_input2 = spk_r2\n",
    "#             mem_p2,spk_p2,b_p2 = self.snn_p2(p_input2, mem_t=h[12],spk_t=h[13],b_t = h[14])\n",
    "\n",
    "       \n",
    "#             dense3_x_avg = F.avg_pool1d(spk_p2.reshape(-1,1,10*N_pop),N_pop,N_pop)[:,0,:]\n",
    "          \n",
    "#             tauM2 = self.tau_m_o\n",
    "#             mem_out = output_Neuron(dense3_x_avg,mem=h[-2],tau_m = tauM2)\n",
    "\n",
    "#             out =mem_out\n",
    "#             self.fr = self.fr+ spk_r2.detach().cpu().numpy().mean()/2.\\\n",
    "#                 + spk_r.detach().cpu().numpy().mean()/2.\n",
    "\n",
    "#         h = (mem_h,spk_h,b_h, \n",
    "#             mem_r,spk_r,b_r, \n",
    "#             mem_p,spk_p,b_p, \n",
    "#             mem_r2,spk_r2,b_r2, \n",
    "#             mem_p2,spk_p2,b_p2, \n",
    "#             mem_out,\n",
    "#             out)\n",
    "\n",
    "#         f_output = F.log_softmax(out, dim=1)\n",
    "#         hiddens.append(h)\n",
    "\n",
    "        \n",
    "#         final_state = h\n",
    "#         return f_output, final_state, hiddens\n",
    "\n",
    "# class SeqModel(nn.Module):\n",
    "#     def __init__(self, ninp, nhid, nout,is_rec=True,is_LTC = True):\n",
    "\n",
    "#         super(SeqModel, self).__init__()\n",
    "#         self.nout = nout    # Should be the number of classes\n",
    "#         self.nhid = nhid\n",
    "#         self.is_rec = is_rec\n",
    "#         self.is_LTC= is_LTC\n",
    "\n",
    "#         self.network = SNN(input_size=ninp, hidden_size=nhid, output_size=nout)\n",
    "        \n",
    "\n",
    "#     def forward(self, inputs, hidden):\n",
    "      \n",
    "#         t = T\n",
    "#         # print(inputs.shape) # L,B,d\n",
    "#         outputs = []\n",
    "#         for i in range(t):\n",
    "#             f_output, hidden, hiddens= self.network.forward(inputs, hidden)\n",
    "#             outputs.append(f_output)\n",
    "#         return outputs, hidden\n",
    "\n",
    "#     def init_hidden(self, bsz):\n",
    "#         weight = next(self.parameters()).data\n",
    "#         return (weight.new(bsz,self.nhid).uniform_(),\n",
    "#                 weight.new(bsz,self.nhid).zero_(),\n",
    "#                 weight.new(bsz,self.nhid).fill_(b_j0),\n",
    "#                 # representation\n",
    "#                 weight.new(bsz,self.nhid).zero_(),\n",
    "#                 weight.new(bsz,self.nhid).zero_(),\n",
    "#                 weight.new(bsz,self.nhid).fill_(b_j0),\n",
    "#                 # prediction\n",
    "#                 weight.new(bsz,10*N_pop).zero_(),\n",
    "#                 weight.new(bsz,10*N_pop).zero_(),\n",
    "#                 weight.new(bsz,10*N_pop).fill_(b_j0),\n",
    "#                 # representation2\n",
    "#                 weight.new(bsz,self.nhid).zero_(),\n",
    "#                 weight.new(bsz,self.nhid).zero_(),\n",
    "#                 weight.new(bsz,self.nhid).fill_(b_j0),\n",
    "#                 # prediction2\n",
    "#                 weight.new(bsz,10*N_pop).zero_(),\n",
    "#                 weight.new(bsz,10*N_pop).zero_(),\n",
    "#                 weight.new(bsz,10*N_pop).fill_(b_j0),\n",
    "#                 # layer out\n",
    "#                 weight.new(bsz,self.nout).uniform_(),\n",
    "#                 # sum spike\n",
    "#                 weight.new(bsz,self.nout).zero_(),\n",
    "#                 )\n",
    "\n",
    "\n"
   ]
  },
  {
   "cell_type": "markdown",
   "metadata": {
    "id": "reBROJyycKef",
    "pycharm": {
     "name": "#%% md\n"
    }
   },
   "source": [
    "## FPTT function:"
   ]
  },
  {
   "cell_type": "code",
   "execution_count": 11,
   "metadata": {
    "id": "L1Gd6hay8Kkj",
    "pycharm": {
     "name": "#%%\n"
    }
   },
   "outputs": [],
   "source": [
    "# fptt parameters\n",
    "alpha = .5\n",
    "beta = .5\n",
    "rho = 0."
   ]
  },
  {
   "cell_type": "code",
   "execution_count": 12,
   "metadata": {
    "id": "zLqvBu8lcKGQ",
    "pycharm": {
     "name": "#%%\n"
    }
   },
   "outputs": [],
   "source": [
    "def get_stats_named_params( model ):\n",
    "    named_params = {}\n",
    "    for name, param in model.named_parameters():\n",
    "        sm, lm, dm = param.detach().clone(), 0.0*param.detach().clone(), 0.0*param.detach().clone()\n",
    "        named_params[name] = (param, sm, lm, dm)\n",
    "    return named_params\n",
    "\n",
    "def post_optimizer_updates( named_params):\n",
    "    for name in named_params:\n",
    "        param, sm, lm, dm = named_params[name]\n",
    "        lm.data.add_( -alpha * (param - sm) )\n",
    "        sm.data.mul_( (1.0-beta) )\n",
    "        sm.data.add_( beta * param - (beta/alpha) * lm )\n",
    "\n",
    "def get_regularizer_named_params( named_params,  _lambda=1.0 ):\n",
    "    regularization = torch.zeros( [], device=device )\n",
    "    for name in named_params:\n",
    "        param, sm, lm, dm = named_params[name]\n",
    "        regularization += (rho-1.) * torch.sum( param * lm )\n",
    "        r_p = _lambda * 0.5 * alpha * torch.sum( torch.square(param - sm) )\n",
    "        regularization += r_p\n",
    "        # print(name,r_p)\n",
    "    return regularization \n",
    "\n",
    "def reset_named_params(named_params):\n",
    "    for name in named_params:\n",
    "        param, sm, lm, dm = named_params[name]\n",
    "        param.data.copy_(sm.data)"
   ]
  },
  {
   "cell_type": "markdown",
   "metadata": {
    "id": "ju53O0_m8jYO",
    "pycharm": {
     "name": "#%% md\n"
    }
   },
   "source": [
    "## test function"
   ]
  },
  {
   "cell_type": "code",
   "execution_count": 13,
   "metadata": {
    "id": "6a0CYMDB8i12",
    "pycharm": {
     "name": "#%%\n"
    }
   },
   "outputs": [],
   "source": [
    "def test(model, test_loader):\n",
    "    model.eval()\n",
    "    test_loss = 0\n",
    "    correct = 0\n",
    "\n",
    "    # for data, target in test_loader:\n",
    "    for i ,(data, target) in enumerate(test_loader):\n",
    "        data, target = data.to(device), target.to(device)\n",
    "        data = data.view(-1, 1,28,28)\n",
    "        with torch.no_grad():\n",
    "            model.eval()\n",
    "            hidden = model.init_hidden(data.size(0))\n",
    "        \n",
    "            outputs, hidden= model(data, hidden) \n",
    "           \n",
    "            output = outputs[-1]\n",
    "            # output = torch.stack(outputs[-10:]).mean(dim=0)\n",
    "            \n",
    "            test_loss += F.nll_loss(output, target, reduction='sum').data.item()\n",
    "            pred = output.data.max(1, keepdim=True)[1]\n",
    "        \n",
    "        correct += pred.eq(target.data.view_as(pred)).cpu().sum()\n",
    "        torch.cuda.empty_cache()\n",
    "\n",
    "    test_loss /= len(test_loader.dataset)\n",
    "    print('\\nTest set: Average loss: {:.4f}, Accuracy: {}/{} ({:.0f}%)\\n'.format(\n",
    "           test_loss, correct, len(test_loader.dataset),\n",
    "           100. * correct / len(test_loader.dataset)))\n",
    "    return test_loss, 100. * correct / len(test_loader.dataset)"
   ]
  },
  {
   "cell_type": "markdown",
   "metadata": {
    "id": "c2gyUrzh9Ali",
    "pycharm": {
     "name": "#%% md\n"
    }
   },
   "source": [
    "## training function"
   ]
  },
  {
   "cell_type": "code",
   "execution_count": 14,
   "metadata": {
    "id": "2tsvt3Ny9AWv",
    "pycharm": {
     "name": "#%%\n"
    }
   },
   "outputs": [],
   "source": [
    "# training parameters\n",
    "K  = T# sequence length\n",
    "omega = int(T/K)\n",
    "clip = 1.\n",
    "log_interval = 100\n",
    "lr = 1e-3"
   ]
  },
  {
   "cell_type": "code",
   "execution_count": 15,
   "metadata": {
    "id": "lulnr6ue8x2N",
    "pycharm": {
     "name": "#%%\n"
    }
   },
   "outputs": [],
   "source": [
    "\n",
    "def train(train_loader, n_classes, model, named_params,epoch,optimizer):\n",
    "    global steps\n",
    "    global estimate_class_distribution\n",
    "\n",
    "    train_loss = 0\n",
    "    total_clf_loss = 0\n",
    "    total_regularizaton_loss = 0\n",
    "    total_oracle_loss = 0\n",
    "    model.train()\n",
    "\n",
    "\n",
    "    for batch_idx, (data, target) in enumerate(train_loader):\n",
    "        data, target = data.to(device), target.to(device)\n",
    "        data = data.view(-1, 1,28,28)\n",
    "       \n",
    "        B = target.size()[0]\n",
    "        fr_sum = 0\n",
    "        for p in range(T):\n",
    "\n",
    "            if p==0:\n",
    "                h = model.init_hidden(data.size(0))\n",
    "            elif p%omega==0:\n",
    "                h = tuple(v.detach() for v in h)\n",
    "\n",
    "            # print([p.shape for p in h])\n",
    "            if p<K-1:\n",
    "                if epoch < 10:\n",
    "                    oracle_prob = 0*estimate_class_distribution[target, p] + (1.0/n_classes)\n",
    "                else:\n",
    "                    oracle_prob = estimate_class_distribution[target, p]\n",
    "            else:\n",
    "                oracle_prob = F.one_hot(target,n_classes).float() \n",
    "\n",
    "            \n",
    "            o, h,hs = model.network.forward(data, h )\n",
    "            fr_sum += model.network.fr\n",
    "\n",
    "            prob_out = F.softmax(h[-1], dim=1)\n",
    "            output = F.log_softmax(h[-1], dim=1) \n",
    "\n",
    "            \n",
    "            if p<K-1:\n",
    "                with torch.no_grad():\n",
    "                    filled_class = [0]*n_classes\n",
    "                    n_filled = 0\n",
    "                    for j in range(B):\n",
    "                        if n_filled==n_classes: break\n",
    "                        y = target[j].item()\n",
    "                        if filled_class[y] == 0 and (torch.argmax(prob_out[j]) != target[j]):\n",
    "                            filled_class[y] = 1\n",
    "                            estimate_class_distribution[y, p] = prob_out[j].detach()\n",
    "                            n_filled += 1\n",
    "            if p%omega==0 and p>0: \n",
    "                optimizer.zero_grad()\n",
    "                \n",
    "                # clf_loss = (p+1)/(K)*F.nll_loss(output, target)\n",
    "                clf_loss = F.nll_loss(output, target)\n",
    "     \n",
    "        \n",
    "                oracle_loss = 1.0 *torch.mean( -oracle_prob.to(device) * output )\n",
    "                # oracle_loss = (1 - (p+1)/(K)) *torch.mean(torch.mean( -oracle_prob.to(device) * output,axis=1)*snr)\n",
    "                    \n",
    "                regularizer = get_regularizer_named_params( named_params, _lambda=1.0 )      \n",
    "                loss = clf_loss  + regularizer  + oracle_loss\n",
    "\n",
    "                loss.backward()\n",
    "\n",
    "                if clip > 0:\n",
    "                    torch.nn.utils.clip_grad_norm_(model.parameters(), clip)\n",
    "\n",
    "                # if batch_idx > 0 and batch_idx % log_interval == 0 and p == 10:\n",
    "                #     print('i2h',model.network.snn_h.layer1_x.weight.grad.data.mean())\n",
    "                #     print('h2r',model.network.snn_r.layer1_x.weight.grad.data.mean())\n",
    "                #     print('r2p',model.network.snn_p.layer1_x.weight.grad.data.mean())\n",
    "      \n",
    "\n",
    "                optimizer.step()\n",
    "                post_optimizer_updates( named_params)\n",
    "            \n",
    "                train_loss += loss.item()\n",
    "                total_clf_loss += clf_loss.item()\n",
    "                total_regularizaton_loss += regularizer #.item()\n",
    "                total_oracle_loss += oracle_loss.item()\n",
    "        \n",
    "        \n",
    "        if batch_idx > 0 and batch_idx % log_interval == 0:\n",
    "            print('Train Epoch: {} [{}/{} ({:.0f}%)]\\tlr: {:.6f}\\tLoss: {:.6f}\\tOracle: \\\n",
    "                {:.6f}\\tClf: {:.6f}\\tReg: {:.6f}\\tFr: {:.6f}'.format(\n",
    "                   epoch, batch_idx * batch_size, len(train_loader.dataset),\n",
    "                   100. * batch_idx / len(train_loader), lr, train_loss / log_interval, \n",
    "                   total_oracle_loss / log_interval, \n",
    "                   total_clf_loss / log_interval, total_regularizaton_loss / log_interval, fr_sum/T/log_interval))\n",
    "            \n",
    "            train_loss = 0\n",
    "            total_clf_loss = 0\n",
    "            total_regularizaton_loss = 0\n",
    "            total_oracle_loss = 0\n",
    "        model.network.fr = 0\n",
    "            \n"
   ]
  },
  {
   "cell_type": "code",
   "execution_count": 16,
   "metadata": {
    "id": "NpB5aFfrCn4L",
    "pycharm": {
     "name": "#%%\n"
    }
   },
   "outputs": [],
   "source": [
    "n_classes = 10"
   ]
  },
  {
   "cell_type": "code",
   "execution_count": 17,
   "metadata": {
    "id": "6tuWZEmYCwoH",
    "pycharm": {
     "name": "#%%\n"
    }
   },
   "outputs": [
    {
     "name": "stderr",
     "output_type": "stream",
     "text": [
      "<ipython-input-9-1ffb3f97324e>:248: UserWarning: nn.init.xavier_normal is now deprecated in favor of nn.init.xavier_normal_.\n",
      "  nn.init.xavier_normal(self.p2r_2.weight)\n"
     ]
    }
   ],
   "source": [
    "model = SeqModel(ninp=512,\n",
    "                    nhid=512,\n",
    "                    nout=n_classes)\n",
    "model.to(device)\n",
    "model.apply(weights_init)\n",
    "total_params = count_parameters(model)"
   ]
  },
  {
   "cell_type": "code",
   "execution_count": 18,
   "metadata": {
    "id": "eYFlr74NU4Y5",
    "pycharm": {
     "name": "#%%\n"
    }
   },
   "outputs": [],
   "source": [
    "optimizer = optim.Adam(model.parameters(), lr=lr)#, weight_decay=0.0001)\n",
    "scheduler = optim.lr_scheduler.StepLR(optimizer, step_size=20, gamma=0.5)  # reduce the learning after 20 epochs by a factor of 10"
   ]
  },
  {
   "cell_type": "code",
   "execution_count": 19,
   "metadata": {
    "pycharm": {
     "name": "#%%\n"
    }
   },
   "outputs": [],
   "source": [
    "# w_init = model.network.snn3.h2r.weight.detach().cpu().numpy()"
   ]
  },
  {
   "cell_type": "markdown",
   "metadata": {
    "id": "xmwAqWtPFzMq",
    "pycharm": {
     "name": "#%% md\n"
    }
   },
   "source": [
    "Training and Testing the Network\n",
    "--------------------------------\n",
    "\n",
    "Now let’s define a training function that will feed our training data\n",
    "into the model and perform the backward pass and optimization steps. For\n",
    "training, the loss we will use is the negative log-likelihood. The\n",
    "network will then be tested after each epoch to see how the accuracy\n",
    "varies during the training."
   ]
  },
  {
   "cell_type": "code",
   "execution_count": 20,
   "metadata": {
    "colab": {
     "base_uri": "https://localhost:8080/"
    },
    "id": "U_qyEdlAU5wH",
    "outputId": "65471fff-0045-4efa-a771-b5923b6d6a48",
    "pycharm": {
     "name": "#%%\n"
    }
   },
   "outputs": [
    {
     "name": "stdout",
     "output_type": "stream",
     "text": [
      "\n",
      "Test set: Average loss: 2.4001, Accuracy: 1087/10000 (11%)\n",
      "\n"
     ]
    }
   ],
   "source": [
    "test_loss, acc1 = test( model, test_loader )"
   ]
  },
  {
   "cell_type": "code",
   "execution_count": 21,
   "metadata": {
    "colab": {
     "base_uri": "https://localhost:8080/"
    },
    "id": "RDVycao8F1Sl",
    "outputId": "27f6c9f4-8467-4b20-d682-7b78fb082379",
    "pycharm": {
     "name": "#%%\n"
    }
   },
   "outputs": [
    {
     "name": "stdout",
     "output_type": "stream",
     "text": [
      "Train Epoch: 0 [25600/60000 (43%)]\tlr: 0.001000\tLoss: 35.983512\tOracle:                 7.093533\tClf: 29.223106\tReg: -0.333128\tFr: 0.047817\n",
      "Train Epoch: 0 [51200/60000 (85%)]\tlr: 0.001000\tLoss: 25.055997\tOracle:                 8.504396\tClf: 17.015489\tReg: -0.463888\tFr: 0.046959\n",
      "\n",
      "Test set: Average loss: 0.9067, Accuracy: 7164/10000 (72%)\n",
      "\n",
      "Train Epoch: 1 [25600/60000 (43%)]\tlr: 0.001000\tLoss: 22.175052\tOracle:                 8.358699\tClf: 14.174180\tReg: -0.357827\tFr: 0.045992\n",
      "Train Epoch: 1 [51200/60000 (85%)]\tlr: 0.001000\tLoss: 21.040260\tOracle:                 8.341220\tClf: 12.993227\tReg: -0.294187\tFr: 0.045316\n",
      "\n",
      "Test set: Average loss: 1.3048, Accuracy: 7091/10000 (71%)\n",
      "\n",
      "Train Epoch: 2 [25600/60000 (43%)]\tlr: 0.001000\tLoss: 20.134896\tOracle:                 8.743327\tClf: 11.715629\tReg: -0.324061\tFr: 0.044000\n",
      "Train Epoch: 2 [51200/60000 (85%)]\tlr: 0.001000\tLoss: 19.058747\tOracle:                 8.645801\tClf: 10.681341\tReg: -0.268395\tFr: 0.042742\n",
      "\n",
      "Test set: Average loss: 0.6847, Accuracy: 7911/10000 (79%)\n",
      "\n",
      "Train Epoch: 3 [25600/60000 (43%)]\tlr: 0.001000\tLoss: 18.942345\tOracle:                 8.916982\tClf: 10.291592\tReg: -0.266229\tFr: 0.040552\n",
      "Train Epoch: 3 [51200/60000 (85%)]\tlr: 0.001000\tLoss: 18.368812\tOracle:                 8.913043\tClf: 9.694864\tReg: -0.239096\tFr: 0.039860\n",
      "\n",
      "Test set: Average loss: 0.7499, Accuracy: 7772/10000 (78%)\n",
      "\n",
      "Train Epoch: 4 [25600/60000 (43%)]\tlr: 0.001000\tLoss: 17.894941\tOracle:                 8.867808\tClf: 9.186361\tReg: -0.159228\tFr: 0.038249\n"
     ]
    }
   ],
   "source": [
    "epochs = 30\n",
    "named_params = get_stats_named_params( model )\n",
    "prefix ='save name'\n",
    "all_test_losses = []\n",
    "best_acc1 = 20\n",
    "\n",
    "estimate_class_distribution = torch.zeros(n_classes, T, n_classes, dtype=torch.float)\n",
    "for epoch in range(epochs):\n",
    "    train(train_loader, n_classes, model, named_params,epoch,optimizer)   \n",
    "\n",
    "    reset_named_params(named_params)\n",
    "\n",
    "\n",
    "    test_loss, acc1 = test( model, test_loader )\n",
    "\n",
    "\n",
    "    scheduler.step()\n",
    "\n",
    "        \n",
    "    # remember best acc@1 and save checkpoint\n",
    "    is_best = acc1 > best_acc1\n",
    "    best_acc1 = max(acc1, best_acc1)\n",
    "        \n",
    "    # save_checkpoint({\n",
    "    #         'epoch': epoch + 1,\n",
    "    #         'state_dict': model.state_dict(),\n",
    "    #         #'oracle_state_dict': oracle.state_dict(),\n",
    "    #         'best_acc1': best_acc1,\n",
    "    #         'optimizer' : optimizer.state_dict(),\n",
    "    #         #'oracle_optimizer' : oracle_optim.state_dict(),\n",
    "    #     }, is_best, prefix=prefix)\n",
    "\n",
    "    all_test_losses.append(test_loss)\n",
    "\n",
    "test_loss, acc1 = test( model, test_loader )"
   ]
  },
  {
   "cell_type": "code",
   "execution_count": null,
   "metadata": {
    "pycharm": {
     "name": "#%%\n"
    }
   },
   "outputs": [
    {
     "data": {
      "text/plain": [
       "[<matplotlib.lines.Line2D at 0x7f1fcd7c66d0>]"
      ]
     },
     "execution_count": 54,
     "metadata": {},
     "output_type": "execute_result"
    },
    {
     "data": {
      "image/png": "[encoded data removed]",
      "text/plain": [
       "<Figure size 432x288 with 1 Axes>"
      ]
     },
     "metadata": {
      "needs_background": "light"
     },
     "output_type": "display_data"
    }
   ],
   "source": [
    "plt.plot(all_test_losses)"
   ]
  },
  {
   "cell_type": "code",
   "execution_count": null,
   "metadata": {
    "pycharm": {
     "name": "#%%\n"
    }
   },
   "outputs": [
    {
     "name": "stdout",
     "output_type": "stream",
     "text": [
      "Train Epoch: 0 [25600/60000 (43%)]\tlr: 0.001000\tLoss: 15.864305\tOracle:                 8.950606\tClf: 6.948392\tReg: -0.034693\tFr: 0.015097\n",
      "Train Epoch: 0 [51200/60000 (85%)]\tlr: 0.001000\tLoss: 15.382572\tOracle:                 8.305547\tClf: 7.096578\tReg: -0.019553\tFr: 0.015146\n",
      "\n",
      "Test set: Average loss: 0.4423, Accuracy: 8676/10000 (87%)\n",
      "\n",
      "Train Epoch: 1 [25600/60000 (43%)]\tlr: 0.001000\tLoss: 15.234366\tOracle:                 8.261125\tClf: 6.981818\tReg: -0.008577\tFr: 0.015058\n",
      "Train Epoch: 1 [51200/60000 (85%)]\tlr: 0.001000\tLoss: 15.101129\tOracle:                 8.100208\tClf: 7.008394\tReg: -0.007473\tFr: 0.015346\n",
      "\n",
      "Test set: Average loss: 0.4459, Accuracy: 8645/10000 (86%)\n",
      "\n",
      "Train Epoch: 2 [25600/60000 (43%)]\tlr: 0.001000\tLoss: 15.033659\tOracle:                 8.141245\tClf: 6.897549\tReg: -0.005135\tFr: 0.015350\n",
      "Train Epoch: 2 [51200/60000 (85%)]\tlr: 0.001000\tLoss: 14.839569\tOracle:                 8.054306\tClf: 6.788871\tReg: -0.003607\tFr: 0.015304\n",
      "\n",
      "Test set: Average loss: 0.4846, Accuracy: 8533/10000 (85%)\n",
      "\n",
      "Train Epoch: 3 [25600/60000 (43%)]\tlr: 0.001000\tLoss: 14.954393\tOracle:                 8.099696\tClf: 6.857825\tReg: -0.003128\tFr: 0.015397\n",
      "Train Epoch: 3 [51200/60000 (85%)]\tlr: 0.001000\tLoss: 14.736684\tOracle:                 8.019205\tClf: 6.720550\tReg: -0.003071\tFr: 0.015446\n",
      "\n",
      "Test set: Average loss: 0.4295, Accuracy: 8730/10000 (87%)\n",
      "\n",
      "Train Epoch: 4 [25600/60000 (43%)]\tlr: 0.001000\tLoss: 14.794084\tOracle:                 8.092763\tClf: 6.704891\tReg: -0.003569\tFr: 0.015321\n",
      "Train Epoch: 4 [51200/60000 (85%)]\tlr: 0.001000\tLoss: 14.682390\tOracle:                 7.965811\tClf: 6.719304\tReg: -0.002725\tFr: 0.015520\n",
      "\n",
      "Test set: Average loss: 0.4412, Accuracy: 8661/10000 (87%)\n",
      "\n",
      "Train Epoch: 5 [25600/60000 (43%)]\tlr: 0.001000\tLoss: 14.648084\tOracle:                 8.082334\tClf: 6.567175\tReg: -0.001424\tFr: 0.015408\n",
      "Train Epoch: 5 [51200/60000 (85%)]\tlr: 0.001000\tLoss: 14.635644\tOracle:                 7.957667\tClf: 6.681060\tReg: -0.003082\tFr: 0.015468\n",
      "\n",
      "Test set: Average loss: 0.4648, Accuracy: 8574/10000 (86%)\n",
      "\n",
      "Train Epoch: 6 [25600/60000 (43%)]\tlr: 0.001000\tLoss: 14.608146\tOracle:                 8.038812\tClf: 6.573181\tReg: -0.003846\tFr: 0.015554\n",
      "Train Epoch: 6 [51200/60000 (85%)]\tlr: 0.001000\tLoss: 14.419348\tOracle:                 7.961618\tClf: 6.458868\tReg: -0.001139\tFr: 0.015550\n",
      "\n",
      "Test set: Average loss: 0.4276, Accuracy: 8719/10000 (87%)\n",
      "\n",
      "Train Epoch: 7 [25600/60000 (43%)]\tlr: 0.001000\tLoss: 14.385755\tOracle:                 8.067777\tClf: 6.319891\tReg: -0.001913\tFr: 0.015528\n",
      "Train Epoch: 7 [51200/60000 (85%)]\tlr: 0.001000\tLoss: 14.446718\tOracle:                 7.947311\tClf: 6.502888\tReg: -0.003481\tFr: 0.015611\n",
      "\n",
      "Test set: Average loss: 0.4324, Accuracy: 8701/10000 (87%)\n",
      "\n",
      "Train Epoch: 8 [25600/60000 (43%)]\tlr: 0.001000\tLoss: 14.281652\tOracle:                 8.033805\tClf: 6.248463\tReg: -0.000616\tFr: 0.015668\n",
      "Train Epoch: 8 [51200/60000 (85%)]\tlr: 0.001000\tLoss: 14.257995\tOracle:                 7.957180\tClf: 6.302393\tReg: -0.001578\tFr: 0.015475\n",
      "\n",
      "Test set: Average loss: 0.4998, Accuracy: 8650/10000 (86%)\n",
      "\n",
      "Train Epoch: 9 [25600/60000 (43%)]\tlr: 0.001000\tLoss: 14.156734\tOracle:                 8.051307\tClf: 6.106404\tReg: -0.000976\tFr: 0.015764\n",
      "Train Epoch: 9 [51200/60000 (85%)]\tlr: 0.001000\tLoss: 14.143257\tOracle:                 7.956127\tClf: 6.188973\tReg: -0.001844\tFr: 0.015602\n",
      "\n",
      "Test set: Average loss: 0.4458, Accuracy: 8740/10000 (87%)\n",
      "\n",
      "Train Epoch: 10 [25600/60000 (43%)]\tlr: 0.001000\tLoss: 12.292304\tOracle:                 6.529243\tClf: 5.767144\tReg: -0.004083\tFr: 0.015425\n",
      "Train Epoch: 10 [51200/60000 (85%)]\tlr: 0.001000\tLoss: 11.842420\tOracle:                 6.067873\tClf: 5.773188\tReg: 0.001359\tFr: 0.015441\n",
      "\n",
      "Test set: Average loss: 0.4011, Accuracy: 8745/10000 (87%)\n",
      "\n",
      "Train Epoch: 11 [25600/60000 (43%)]\tlr: 0.001000\tLoss: 11.708552\tOracle:                 6.034360\tClf: 5.672755\tReg: 0.001437\tFr: 0.015659\n",
      "Train Epoch: 11 [51200/60000 (85%)]\tlr: 0.001000\tLoss: 11.736209\tOracle:                 6.035735\tClf: 5.698650\tReg: 0.001824\tFr: 0.015579\n",
      "\n",
      "Test set: Average loss: 0.3978, Accuracy: 8798/10000 (88%)\n",
      "\n",
      "Train Epoch: 12 [25600/60000 (43%)]\tlr: 0.001000\tLoss: 11.715900\tOracle:                 6.082406\tClf: 5.631082\tReg: 0.002412\tFr: 0.015709\n",
      "Train Epoch: 12 [51200/60000 (85%)]\tlr: 0.001000\tLoss: 11.656726\tOracle:                 6.082905\tClf: 5.574859\tReg: -0.001037\tFr: 0.015606\n",
      "\n",
      "Test set: Average loss: 0.4520, Accuracy: 8628/10000 (86%)\n",
      "\n",
      "Train Epoch: 13 [25600/60000 (43%)]\tlr: 0.001000\tLoss: 11.614031\tOracle:                 6.130632\tClf: 5.479790\tReg: 0.003608\tFr: 0.015607\n",
      "Train Epoch: 13 [51200/60000 (85%)]\tlr: 0.001000\tLoss: 11.491125\tOracle:                 5.979789\tClf: 5.512100\tReg: -0.000763\tFr: 0.015548\n",
      "\n",
      "Test set: Average loss: 0.4506, Accuracy: 8590/10000 (86%)\n",
      "\n",
      "Train Epoch: 14 [25600/60000 (43%)]\tlr: 0.001000\tLoss: 11.561376\tOracle:                 6.187772\tClf: 5.372082\tReg: 0.001522\tFr: 0.015571\n",
      "Train Epoch: 14 [51200/60000 (85%)]\tlr: 0.001000\tLoss: 11.395507\tOracle:                 6.042888\tClf: 5.352220\tReg: 0.000399\tFr: 0.015723\n",
      "\n",
      "Test set: Average loss: 0.4102, Accuracy: 8795/10000 (88%)\n",
      "\n",
      "Train Epoch: 15 [25600/60000 (43%)]\tlr: 0.001000\tLoss: 11.377684\tOracle:                 6.087954\tClf: 5.287589\tReg: 0.002141\tFr: 0.015568\n",
      "Train Epoch: 15 [51200/60000 (85%)]\tlr: 0.001000\tLoss: 11.356668\tOracle:                 6.053796\tClf: 5.304131\tReg: -0.001259\tFr: 0.015647\n",
      "\n",
      "Test set: Average loss: 0.3816, Accuracy: 8875/10000 (89%)\n",
      "\n",
      "Train Epoch: 16 [25600/60000 (43%)]\tlr: 0.001000\tLoss: 11.270872\tOracle:                 6.128541\tClf: 5.143410\tReg: -0.001079\tFr: 0.015584\n",
      "Train Epoch: 16 [51200/60000 (85%)]\tlr: 0.001000\tLoss: 11.401257\tOracle:                 6.200644\tClf: 5.205190\tReg: -0.004576\tFr: 0.015587\n",
      "\n",
      "Test set: Average loss: 0.4086, Accuracy: 8759/10000 (88%)\n",
      "\n",
      "Train Epoch: 17 [25600/60000 (43%)]\tlr: 0.001000\tLoss: 11.257566\tOracle:                 6.249475\tClf: 5.009147\tReg: -0.001056\tFr: 0.015451\n",
      "Train Epoch: 17 [51200/60000 (85%)]\tlr: 0.001000\tLoss: 11.307865\tOracle:                 6.138070\tClf: 5.169804\tReg: -0.000008\tFr: 0.015470\n",
      "\n",
      "Test set: Average loss: 0.4782, Accuracy: 8644/10000 (86%)\n",
      "\n",
      "Train Epoch: 18 [25600/60000 (43%)]\tlr: 0.001000\tLoss: 11.183350\tOracle:                 6.205290\tClf: 4.978875\tReg: -0.000816\tFr: 0.015521\n",
      "Train Epoch: 18 [51200/60000 (85%)]\tlr: 0.001000\tLoss: 11.091842\tOracle:                 6.086251\tClf: 5.005620\tReg: -0.000030\tFr: 0.015643\n",
      "\n",
      "Test set: Average loss: 0.5347, Accuracy: 8495/10000 (85%)\n",
      "\n",
      "Train Epoch: 19 [25600/60000 (43%)]\tlr: 0.001000\tLoss: 10.936993\tOracle:                 6.278397\tClf: 4.655195\tReg: 0.003402\tFr: 0.015638\n",
      "Train Epoch: 19 [51200/60000 (85%)]\tlr: 0.001000\tLoss: 11.188748\tOracle:                 6.171866\tClf: 5.021730\tReg: -0.004848\tFr: 0.015478\n",
      "\n",
      "Test set: Average loss: 0.5116, Accuracy: 8646/10000 (86%)\n",
      "\n",
      "Train Epoch: 20 [25600/60000 (43%)]\tlr: 0.001000\tLoss: 10.945643\tOracle:                 6.228686\tClf: 4.717876\tReg: -0.000918\tFr: 0.015507\n",
      "Train Epoch: 20 [51200/60000 (85%)]\tlr: 0.001000\tLoss: 10.906885\tOracle:                 6.216827\tClf: 4.691685\tReg: -0.001627\tFr: 0.015618\n",
      "\n",
      "Test set: Average loss: 0.4544, Accuracy: 8687/10000 (87%)\n",
      "\n",
      "Train Epoch: 21 [25600/60000 (43%)]\tlr: 0.001000\tLoss: 10.960462\tOracle:                 6.345200\tClf: 4.616344\tReg: -0.001082\tFr: 0.015453\n",
      "Train Epoch: 21 [51200/60000 (85%)]\tlr: 0.001000\tLoss: 10.824768\tOracle:                 6.196840\tClf: 4.629526\tReg: -0.001597\tFr: 0.015331\n",
      "\n",
      "Test set: Average loss: 0.4947, Accuracy: 8686/10000 (87%)\n",
      "\n",
      "Train Epoch: 22 [25600/60000 (43%)]\tlr: 0.001000\tLoss: 10.889752\tOracle:                 6.270728\tClf: 4.621247\tReg: -0.002222\tFr: 0.015402\n",
      "Train Epoch: 22 [51200/60000 (85%)]\tlr: 0.001000\tLoss: 10.899869\tOracle:                 6.306784\tClf: 4.600775\tReg: -0.007690\tFr: 0.015398\n",
      "\n",
      "Test set: Average loss: 0.5214, Accuracy: 8563/10000 (86%)\n",
      "\n",
      "Train Epoch: 23 [25600/60000 (43%)]\tlr: 0.001000\tLoss: 10.723441\tOracle:                 6.331168\tClf: 4.389574\tReg: 0.002698\tFr: 0.015287\n",
      "Train Epoch: 23 [51200/60000 (85%)]\tlr: 0.001000\tLoss: 10.731950\tOracle:                 6.235170\tClf: 4.500730\tReg: -0.003950\tFr: 0.015164\n",
      "\n",
      "Test set: Average loss: 0.4552, Accuracy: 8782/10000 (88%)\n",
      "\n",
      "Train Epoch: 24 [25600/60000 (43%)]\tlr: 0.001000\tLoss: 10.696041\tOracle:                 6.386318\tClf: 4.310600\tReg: -0.000877\tFr: 0.015279\n",
      "Train Epoch: 24 [51200/60000 (85%)]\tlr: 0.001000\tLoss: 10.820152\tOracle:                 6.347247\tClf: 4.476179\tReg: -0.003274\tFr: 0.015062\n",
      "\n",
      "Test set: Average loss: 0.5366, Accuracy: 8577/10000 (86%)\n",
      "\n",
      "Train Epoch: 25 [25600/60000 (43%)]\tlr: 0.001000\tLoss: 10.534267\tOracle:                 6.414616\tClf: 4.120411\tReg: -0.000761\tFr: 0.015033\n",
      "Train Epoch: 25 [51200/60000 (85%)]\tlr: 0.001000\tLoss: 10.580067\tOracle:                 6.258284\tClf: 4.322823\tReg: -0.001041\tFr: 0.015064\n",
      "\n",
      "Test set: Average loss: 0.6992, Accuracy: 8230/10000 (82%)\n",
      "\n",
      "Train Epoch: 26 [25600/60000 (43%)]\tlr: 0.001000\tLoss: 10.691357\tOracle:                 6.452929\tClf: 4.242840\tReg: -0.004412\tFr: 0.014633\n",
      "Train Epoch: 26 [51200/60000 (85%)]\tlr: 0.001000\tLoss: 10.519484\tOracle:                 6.324031\tClf: 4.192315\tReg: 0.003139\tFr: 0.014689\n",
      "\n",
      "Test set: Average loss: 0.5093, Accuracy: 8696/10000 (87%)\n",
      "\n",
      "Train Epoch: 27 [25600/60000 (43%)]\tlr: 0.001000\tLoss: 10.614360\tOracle:                 6.420770\tClf: 4.192974\tReg: 0.000616\tFr: 0.014420\n",
      "Train Epoch: 27 [51200/60000 (85%)]\tlr: 0.001000\tLoss: 10.451573\tOracle:                 6.252507\tClf: 4.198566\tReg: 0.000500\tFr: 0.014163\n",
      "\n",
      "Test set: Average loss: 0.7924, Accuracy: 7990/10000 (80%)\n",
      "\n"
     ]
    }
   ],
   "source": [
    "for epoch in range(epochs):\n",
    "    train(train_loader, n_classes, model, named_params,epoch,optimizer)   \n",
    "\n",
    "    reset_named_params(named_params)\n",
    "\n",
    "\n",
    "    test_loss, acc1 = test( model, test_loader )\n",
    "\n",
    "\n",
    "    scheduler.step()\n",
    "\n",
    "        \n",
    "    # remember best acc@1 and save checkpoint\n",
    "    is_best = acc1 > best_acc1\n",
    "    best_acc1 = max(acc1, best_acc1)\n",
    "        \n",
    "    # save_checkpoint({\n",
    "    #         'epoch': epoch + 1,\n",
    "    #         'state_dict': model.state_dict(),\n",
    "    #         #'oracle_state_dict': oracle.state_dict(),\n",
    "    #         'best_acc1': best_acc1,\n",
    "    #         'optimizer' : optimizer.state_dict(),\n",
    "    #         #'oracle_optimizer' : oracle_optim.state_dict(),\n",
    "    #     }, is_best, prefix=prefix)\n",
    "\n",
    "    all_test_losses.append(test_loss)\n",
    "\n",
    "test_loss, acc1 = test( model, test_loader )"
   ]
  },
  {
   "cell_type": "code",
   "execution_count": null,
   "metadata": {
    "pycharm": {
     "name": "#%%\n"
    }
   },
   "outputs": [
    {
     "data": {
      "text/plain": [
       "tensor(86.4300)"
      ]
     },
     "execution_count": 43,
     "metadata": {},
     "output_type": "execute_result"
    }
   ],
   "source": [
    "best_acc1"
   ]
  },
  {
   "cell_type": "code",
   "execution_count": null,
   "metadata": {
    "id": "7s0HEMpgnI6q",
    "pycharm": {
     "name": "#%%\n"
    }
   },
   "outputs": [
    {
     "data": {
      "text/plain": [
       "<matplotlib.image.AxesImage at 0x7f1fe2f5fac0>"
      ]
     },
     "execution_count": 44,
     "metadata": {},
     "output_type": "execute_result"
    },
    {
     "data": {
      "image/png": "[encoded data removed]",
      "text/plain": [
       "<Figure size 432x288 with 1 Axes>"
      ]
     },
     "metadata": {
      "needs_background": "light"
     },
     "output_type": "display_data"
    }
   ],
   "source": [
    "w = model.network.snn_h.layer1_x.weight.detach().cpu().numpy()\n",
    "b = model.network.snn_h.layer1_x.bias.detach().cpu().numpy()\n",
    "plt.imshow(w)"
   ]
  },
  {
   "cell_type": "code",
   "execution_count": null,
   "metadata": {
    "pycharm": {
     "name": "#%%\n"
    }
   },
   "outputs": [
    {
     "data": {
      "text/plain": [
       "[<matplotlib.lines.Line2D at 0x7f1fe30ef5e0>]"
      ]
     },
     "execution_count": 45,
     "metadata": {},
     "output_type": "execute_result"
    },
    {
     "data": {
      "image/png": "[encoded data removed]",
      "text/plain": [
       "<Figure size 432x288 with 1 Axes>"
      ]
     },
     "metadata": {
      "needs_background": "light"
     },
     "output_type": "display_data"
    }
   ],
   "source": [
    "plt.plot(b)"
   ]
  },
  {
   "cell_type": "code",
   "execution_count": null,
   "metadata": {
    "pycharm": {
     "name": "#%%\n"
    }
   },
   "outputs": [
    {
     "data": {
      "text/plain": [
       "(array([ 8988., 13455., 13412., 13740., 13820., 13647., 13653., 13454.,\n",
       "        13533., 13458., 13594., 13719., 13353., 13646., 13605., 13785.,\n",
       "        13540., 13486., 13488.,  8768.]),\n",
       " array([-0.07924857, -0.07131094, -0.06337332, -0.05543569, -0.04749807,\n",
       "        -0.03956044, -0.03162281, -0.02368519, -0.01574756, -0.00780993,\n",
       "         0.00012769,  0.00806532,  0.01600294,  0.02394057,  0.0318782 ,\n",
       "         0.03981582,  0.04775345,  0.05569107,  0.0636287 ,  0.07156633,\n",
       "         0.07950395], dtype=float32),\n",
       " <a list of 20 Patch objects>)"
      ]
     },
     "execution_count": 46,
     "metadata": {},
     "output_type": "execute_result"
    },
    {
     "data": {
      "image/png": "[encoded data removed]",
      "text/plain": [
       "<Figure size 432x288 with 1 Axes>"
      ]
     },
     "metadata": {
      "needs_background": "light"
     },
     "output_type": "display_data"
    }
   ],
   "source": [
    "w = model.network.snn_r.layer1_r.weight.detach().cpu().numpy()\n",
    "plt.hist(w.reshape(w.shape[0]*w.shape[1]),bins=20)\n",
    "# plt.hist(w_init.reshape(w.shape[0]*w.shape[1]),bins=20,alpha=0.5)"
   ]
  },
  {
   "cell_type": "code",
   "execution_count": null,
   "metadata": {
    "pycharm": {
     "name": "#%%\n"
    }
   },
   "outputs": [
    {
     "data": {
      "text/plain": [
       "(array([4.000e+00, 2.300e+01, 9.600e+01, 3.480e+02, 2.025e+03, 4.735e+03,\n",
       "        5.170e+03, 5.289e+03, 5.321e+03, 5.327e+03, 5.304e+03, 5.221e+03,\n",
       "        5.142e+03, 4.731e+03, 2.013e+03, 3.360e+02, 9.400e+01, 1.300e+01,\n",
       "        7.000e+00, 1.000e+00]),\n",
       " array([-0.19753575, -0.17671423, -0.1558927 , -0.13507117, -0.11424965,\n",
       "        -0.09342812, -0.07260659, -0.05178507, -0.03096354, -0.01014201,\n",
       "         0.01067951,  0.03150104,  0.05232257,  0.07314409,  0.09396562,\n",
       "         0.11478715,  0.13560867,  0.1564302 ,  0.17725173,  0.19807325,\n",
       "         0.21889478], dtype=float32),\n",
       " <a list of 20 Patch objects>)"
      ]
     },
     "execution_count": 47,
     "metadata": {},
     "output_type": "execute_result"
    },
    {
     "data": {
      "image/png": "[encoded data removed]",
      "text/plain": [
       "<Figure size 432x288 with 1 Axes>"
      ]
     },
     "metadata": {
      "needs_background": "light"
     },
     "output_type": "display_data"
    }
   ],
   "source": [
    "w = model.network.snn_p.layer1_x.weight.detach().cpu().numpy()\n",
    "plt.hist(w.reshape(w.shape[0]*w.shape[1]),bins=20)"
   ]
  },
  {
   "cell_type": "code",
   "execution_count": null,
   "metadata": {
    "pycharm": {
     "name": "#%%\n"
    }
   },
   "outputs": [
    {
     "data": {
      "text/plain": [
       "(tensor(-0.4145), tensor(0.5122), tensor(-1.), tensor(1.))"
      ]
     },
     "execution_count": 49,
     "metadata": {},
     "output_type": "execute_result"
    }
   ],
   "source": [
    "for i ,(data, target) in enumerate(test_loader):\n",
    "    x = data\n",
    "    break\n",
    "x.mean(),x.var(),x.min(),x.max()"
   ]
  },
  {
   "cell_type": "code",
   "execution_count": null,
   "metadata": {
    "pycharm": {
     "name": "#%%\n"
    }
   },
   "outputs": [],
   "source": []
  }
 ],
 "metadata": {
  "accelerator": "GPU",
  "colab": {
   "provenance": []
  },
  "gpuClass": "standard",
  "kernelspec": {
   "display_name": "Python 3",
   "language": "python",
   "name": "python3"
  },
  "language_info": {
   "codemirror_mode": {
    "name": "ipython",
    "version": 3
   },
   "file_extension": ".py",
   "mimetype": "text/x-python",
   "name": "python",
   "nbconvert_exporter": "python",
   "pygments_lexer": "ipython3",
   "version": "3.8.10"
  },
  "vscode": {
   "interpreter": {
    "hash": "e7370f93d1d0cde622a1f8e1c04877d8463912d04d973331ad4851f04de6915a"
   }
  }
 },
 "nbformat": 4,
 "nbformat_minor": 0
}