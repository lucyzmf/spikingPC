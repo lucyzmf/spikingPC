{
 "cells": [
  {
   "cell_type": "code",
   "execution_count": 1,
   "metadata": {},
   "outputs": [],
   "source": [
    "import torchvision\n",
    "import torch\n",
    "import matplotlib.pyplot as plt\n",
    "import seaborn as sns\n",
    "import pandas as pd\n",
    "\n",
    "from network_class import *\n",
    "from sequence_dataset import *\n",
    "from utils import *\n"
   ]
  },
  {
   "cell_type": "code",
   "execution_count": 2,
   "metadata": {},
   "outputs": [
    {
     "name": "stdout",
     "output_type": "stream",
     "text": [
      "cuda\n"
     ]
    }
   ],
   "source": [
    "# %%\n",
    "device = torch.device(\"cuda\" if torch.cuda.is_available() else \"cpu\")\n",
    "print(device)\n",
    "\n",
    "# set seed\n",
    "torch.manual_seed(999)\n",
    "\n",
    "# network hypers\n",
    "adap_neuron = True  # whether use adaptive neuron or not\n",
    "dp = 0.2\n",
    "onetoone = True\n",
    "num_readout = 10\n",
    "\n",
    "# seq data set config\n",
    "seq_len = 40  # sequence length\n",
    "random_switch = False  # predictable or random switch time\n",
    "switch_time = [seq_len / 2]  # if not random switch, provide switch time\n",
    "num_switch = 1  # used when random switch=T\n",
    "\n",
    "n_classes = 10"
   ]
  },
  {
   "cell_type": "markdown",
   "metadata": {},
   "source": [
    "## load test data and model\n"
   ]
  },
  {
   "cell_type": "code",
   "execution_count": 3,
   "metadata": {},
   "outputs": [
    {
     "name": "stdout",
     "output_type": "stream",
     "text": [
      "num of sequences created: 10000\n",
      "torch.Size([200, 40, 28, 28])\n",
      "torch.Size([200, 40])\n"
     ]
    }
   ],
   "source": [
    "###############################################################\n",
    "# IMPORT DATASET\n",
    "###############################################################\n",
    "\n",
    "transform = transforms.Compose(\n",
    "    [transforms.ToTensor(),\n",
    "     transforms.Normalize((0.5), (0.5))])\n",
    "\n",
    "batch_size = 200\n",
    "\n",
    "testdata = torchvision.datasets.MNIST(root='./data', train=False,\n",
    "                                      download=True, transform=transform)\n",
    "\n",
    "seq_test = SequenceDatasetPredictable(testdata, testdata.targets, seq_len, random_switch,\n",
    "                           switch_time, num_switch)\n",
    "\n",
    "test_loader = torch.utils.data.DataLoader(seq_test, batch_size=batch_size,\n",
    "                                          shuffle=False, num_workers=3)\n",
    "\n",
    "for batch_idx, (data, target) in enumerate(test_loader):\n",
    "    print(data.shape)\n",
    "    print(target.shape)\n",
    "    break\n"
   ]
  },
  {
   "cell_type": "code",
   "execution_count": 4,
   "metadata": {},
   "outputs": [
    {
     "name": "stdout",
     "output_type": "stream",
     "text": [
      "SnnNetworkSeq(\n",
      "  (dp): Dropout(p=0.2, inplace=False)\n",
      "  (r_in_rec): SnnLayer(\n",
      "    (rec_w): Linear(in_features=784, out_features=784, bias=True)\n",
      "    (sigmoid): Sigmoid()\n",
      "  )\n",
      "  (rin2rout): Linear(in_features=784, out_features=100, bias=True)\n",
      "  (rout2rin): Linear(in_features=100, out_features=784, bias=True)\n",
      "  (r_out_rec): SnnLayer(\n",
      "    (rec_w): Linear(in_features=100, out_features=100, bias=True)\n",
      "    (sigmoid): Sigmoid()\n",
      "  )\n",
      "  (output_layer): OutputLayer(\n",
      "    (sigmoid): Sigmoid()\n",
      "  )\n",
      ")\n",
      "total param count 785886\n"
     ]
    }
   ],
   "source": [
    "# ##############################################################\n",
    "# DEFINE NETWORK\n",
    "# ##############################################################\n",
    "\n",
    "# set input and t param\n",
    "IN_dim = 784\n",
    "hidden_dim = [10 * num_readout, 784]\n",
    "\n",
    "# define network\n",
    "model_bp = SnnNetworkSeq(IN_dim, hidden_dim, n_classes, is_adapt=adap_neuron, one_to_one=onetoone,\n",
    "                      dp_rate=dp)\n",
    "model_bp.to(device)\n",
    "print(model_bp)\n",
    "\n",
    "\n",
    "model_fptt = SnnNetworkSeq(IN_dim, hidden_dim, n_classes, is_adapt=adap_neuron, one_to_one=onetoone,\n",
    "                      dp_rate=dp)\n",
    "model_fptt.to(device)\n",
    "\n",
    "\n",
    "# define new loss and optimiser\n",
    "total_params = count_parameters(model_bp)\n",
    "print('total param count %i' % total_params)\n"
   ]
  },
  {
   "cell_type": "code",
   "execution_count": 5,
   "metadata": {},
   "outputs": [
    {
     "data": {
      "text/plain": [
       "SnnNetworkSeq(\n",
       "  (dp): Dropout(p=0.2, inplace=False)\n",
       "  (r_in_rec): SnnLayer(\n",
       "    (rec_w): Linear(in_features=784, out_features=784, bias=True)\n",
       "    (sigmoid): Sigmoid()\n",
       "  )\n",
       "  (rin2rout): Linear(in_features=784, out_features=100, bias=True)\n",
       "  (rout2rin): Linear(in_features=100, out_features=784, bias=True)\n",
       "  (r_out_rec): SnnLayer(\n",
       "    (rec_w): Linear(in_features=100, out_features=100, bias=True)\n",
       "    (sigmoid): Sigmoid()\n",
       "  )\n",
       "  (output_layer): OutputLayer(\n",
       "    (sigmoid): Sigmoid()\n",
       "  )\n",
       ")"
      ]
     },
     "execution_count": 5,
     "metadata": {},
     "output_type": "execute_result"
    }
   ],
   "source": [
    "exp_dir_bp = '/home/lucy/spikingPC/results/Feb-13-2023/bp_noener_fpttalpha02_curr0/'\n",
    "saved_dict_bp = model_result_dict_load(exp_dir_bp + 'onelayer_rec_best.pth.tar')\n",
    "\n",
    "model_bp.load_state_dict(saved_dict_bp['state_dict'])\n",
    "model_bp.eval()\n",
    "\n",
    "exp_dir_fptt = '/home/lucy/spikingPC/results/Feb-13-2023/fptt_noener_fpttalpha02_curr0/'\n",
    "saved_dict_fptt = model_result_dict_load(exp_dir_fptt + 'onelayer_rec_best.pth.tar')\n",
    "\n",
    "model_fptt.load_state_dict(saved_dict_fptt['state_dict'])\n",
    "model_fptt.eval()"
   ]
  },
  {
   "cell_type": "code",
   "execution_count": 6,
   "metadata": {},
   "outputs": [],
   "source": [
    "def get_seq_states(model):\n",
    "    #  get all analysis data in sequence condition\n",
    "    test_loss = 0\n",
    "    correct = 0\n",
    "    correct_end_of_seq = 0\n",
    "\n",
    "    hiddens_all = []\n",
    "    predictions_all = []\n",
    "    targets_all = []\n",
    "\n",
    "    # for data, target in test_loader:\n",
    "    for i, (data, target) in enumerate(test_loader):\n",
    "        targets_all.append(target)\n",
    "        data, target = data.to(device), target.to(device)\n",
    "        data = data.view(-1, seq_len, model.in_dim)\n",
    "\n",
    "        with torch.no_grad():\n",
    "            model.eval()\n",
    "            hidden = model.init_hidden(data.size(0))\n",
    "\n",
    "            log_softmax_outputs, hidden, pred_hist = model.inference(data, hidden, seq_len)\n",
    "            hiddens_all.append(hidden)\n",
    "            predictions_all.append(pred_hist.T)\n",
    "\n",
    "            # compute loss at each time step\n",
    "            for t in range(seq_len):\n",
    "                test_loss += F.nll_loss(log_softmax_outputs[t], target[:, t], reduction='sum').data.item()\n",
    "\n",
    "        correct += pred_hist.T.eq(target.data).cpu().sum()\n",
    "        # only check end of sequence acc \n",
    "        correct_end_of_seq += pred_hist.T[:, int(seq_len / 2) - 1].eq(target[:, int(seq_len / 2) - 1].data).cpu().sum()\n",
    "        correct_end_of_seq += pred_hist.T[:, seq_len - 1].eq(target[:, seq_len - 1].data).cpu().sum()\n",
    "        torch.cuda.empty_cache()\n",
    "\n",
    "    test_loss /= len(test_loader.dataset)  # per t loss\n",
    "    test_acc = 100. * correct / len(test_loader.dataset) / seq_len\n",
    "    test_acc_endofseq = 100 * correct_end_of_seq / len(test_loader.dataset) / 2\n",
    "\n",
    "    print('\\nTest set: Average loss: {:.4f}, Accuracy: {}/{} ({:.0f}%), End of seq acc: {:.2f}%\\n'.format(\n",
    "        test_loss, int(correct / seq_len), len(test_loader.dataset),\n",
    "        test_acc, test_acc_endofseq))\n",
    "\n",
    "    predictions_all = torch.stack(predictions_all).view(-1, seq_test.seq_len)\n",
    "    targets_all = torch.stack(targets_all).view(-1, seq_test.seq_len)\n",
    "\n",
    "    return hiddens_all, predictions_all, targets_all"
   ]
  },
  {
   "cell_type": "code",
   "execution_count": 7,
   "metadata": {},
   "outputs": [
    {
     "name": "stdout",
     "output_type": "stream",
     "text": [
      "\n",
      "Test set: Average loss: 48.1820, Accuracy: 7207/10000 (72%), End of seq acc: 88.50%\n",
      "\n",
      "\n",
      "Test set: Average loss: 40.6075, Accuracy: 7561/10000 (76%), End of seq acc: 89.36%\n",
      "\n",
      "torch.Size([10000, 40])\n"
     ]
    }
   ],
   "source": [
    "_, pred_bp, target_bp = get_seq_states(model_bp)\n",
    "_, pred_fptt, target_fptt = get_seq_states(model_fptt)\n",
    "print(pred_bp.size())"
   ]
  },
  {
   "cell_type": "code",
   "execution_count": 8,
   "metadata": {},
   "outputs": [
    {
     "data": {
      "text/plain": [
       "tensor([3, 7, 7, 7, 7, 7, 7, 7, 7, 7, 7, 7, 7, 7, 7, 7, 7, 7, 7, 7, 7, 7, 7, 7,\n",
       "        7, 7, 7, 8, 8, 8, 8, 8, 8, 8, 8, 8, 8, 8, 8, 8], device='cuda:0')"
      ]
     },
     "execution_count": 8,
     "metadata": {},
     "output_type": "execute_result"
    }
   ],
   "source": [
    "pred_bp[0, :]"
   ]
  },
  {
   "cell_type": "code",
   "execution_count": 9,
   "metadata": {},
   "outputs": [
    {
     "name": "stdout",
     "output_type": "stream",
     "text": [
      "80\n"
     ]
    }
   ],
   "source": [
    "acc_byt = {\n",
    "    'alg type': [], \n",
    "    'acc at t': []\n",
    "}\n",
    "\n",
    "acc_byt['alg type'] = ['bp'] * 40 + ['fptt'] * 40\n",
    "acc_byt['acc at t'] = torch.concatenate(((pred_bp.cpu() == target_bp).float().mean(dim=0), (pred_fptt.cpu() == target_fptt).float().mean(dim=0))).numpy()\n",
    "acc_byt['t'] = np.concatenate((np.arange(40), np.arange(40)))\n",
    "print(len(acc_byt['acc at t']))"
   ]
  },
  {
   "cell_type": "code",
   "execution_count": 10,
   "metadata": {},
   "outputs": [
    {
     "data": {
      "image/png": "[encoded data removed]",
      "text/plain": [
       "<Figure size 640x480 with 1 Axes>"
      ]
     },
     "metadata": {},
     "output_type": "display_data"
    }
   ],
   "source": [
    "df_acc = pd.DataFrame.from_dict(acc_byt)\n",
    "sns.lineplot(df_acc, x='t', y='acc at t', hue='alg type')\n",
    "plt.show()"
   ]
  },
  {
   "cell_type": "code",
   "execution_count": null,
   "metadata": {},
   "outputs": [],
   "source": []
  }
 ],
 "metadata": {
  "kernelspec": {
   "display_name": "Python 3.9.15 ('DL')",
   "language": "python",
   "name": "python3"
  },
  "language_info": {
   "codemirror_mode": {
    "name": "ipython",
    "version": 3
   },
   "file_extension": ".py",
   "mimetype": "text/x-python",
   "name": "python",
   "nbconvert_exporter": "python",
   "pygments_lexer": "ipython3",
   "version": "3.9.15"
  },
  "orig_nbformat": 4,
  "vscode": {
   "interpreter": {
    "hash": "d1a9c8db136bcb25071b4037caa9dc5bb0f6af28abc90ee0089151c846e2c6f8"
   }
  }
 },
 "nbformat": 4,
 "nbformat_minor": 2
}
