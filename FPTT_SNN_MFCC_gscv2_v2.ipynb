{
 "cells": [
  {
   "cell_type": "code",
   "execution_count": 174,
   "metadata": {
    "id": "iICGjdkgU4WM",
    "executionInfo": {
     "status": "ok",
     "timestamp": 1667383666244,
     "user_tz": -60,
     "elapsed": 287,
     "user": {
      "displayName": "Bojian Yin",
      "userId": "07330428852648629936"
     }
    },
    "pycharm": {
     "name": "#%%\n"
    }
   },
   "outputs": [],
   "source": [
    "%matplotlib inline"
   ]
  },
  {
   "cell_type": "code",
   "execution_count": 174,
   "metadata": {
    "id": "aDe1RFJ2P_3u",
    "executionInfo": {
     "status": "ok",
     "timestamp": 1667383666651,
     "user_tz": -60,
     "elapsed": 20,
     "user": {
      "displayName": "Bojian Yin",
      "userId": "07330428852648629936"
     }
    },
    "pycharm": {
     "name": "#%%\n"
    }
   },
   "outputs": [],
   "source": []
  },
  {
   "cell_type": "code",
   "execution_count": 175,
   "metadata": {
    "id": "UVDsLECKU4Wc",
    "executionInfo": {
     "status": "ok",
     "timestamp": 1667383666652,
     "user_tz": -60,
     "elapsed": 20,
     "user": {
      "displayName": "Bojian Yin",
      "userId": "07330428852648629936"
     }
    },
    "pycharm": {
     "name": "#%%\n"
    }
   },
   "outputs": [],
   "source": [
    "# Uncomment the line corresponding to your \"runtime type\" to run in Google Colab\n",
    "\n",
    "# CPU:\n",
    "# !pip install pydub torch==1.7.0+cpu torchvision==0.8.1+cpu torchaudio==0.7.0 -f https://download.pytorch.org/whl/torch_stable.html\n",
    "\n",
    "# GPU:\n",
    "# !pip install pydub torch==1.7.0+cu101 torchvision==0.8.1+cu101 torchaudio==0.7.0 -f https://download.pytorch.org/whl/torch_stable.html\n",
    "\n",
    "import torch\n",
    "import torch.nn as nn\n",
    "import torch.nn.functional as F\n",
    "import torch.optim as optim\n",
    "import torchaudio\n",
    "import sys\n",
    "\n",
    "import matplotlib.pyplot as plt\n",
    "import IPython.display as ipd\n",
    "\n",
    "from tqdm import tqdm"
   ]
  },
  {
   "cell_type": "code",
   "source": [
    "print(torch.__version__)"
   ],
   "metadata": {
    "colab": {
     "base_uri": "https://localhost:8080/"
    },
    "id": "nrXUKY5MaQg9",
    "executionInfo": {
     "status": "ok",
     "timestamp": 1667383666652,
     "user_tz": -60,
     "elapsed": 20,
     "user": {
      "displayName": "Bojian Yin",
      "userId": "07330428852648629936"
     }
    },
    "outputId": "627b29f2-12f1-4e36-fe8b-2d05379d9172",
    "pycharm": {
     "name": "#%%\n"
    }
   },
   "execution_count": 176,
   "outputs": [
    {
     "output_type": "stream",
     "name": "stdout",
     "text": [
      "1.12.1+cu113\n"
     ]
    }
   ]
  },
  {
   "cell_type": "code",
   "execution_count": 177,
   "metadata": {
    "colab": {
     "base_uri": "https://localhost:8080/"
    },
    "id": "IfDh30gHU4Wi",
    "outputId": "588fb242-0526-47af-d074-8a4e9c2dbaa1",
    "executionInfo": {
     "status": "ok",
     "timestamp": 1667383666652,
     "user_tz": -60,
     "elapsed": 13,
     "user": {
      "displayName": "Bojian Yin",
      "userId": "07330428852648629936"
     }
    },
    "pycharm": {
     "name": "#%%\n"
    }
   },
   "outputs": [
    {
     "output_type": "stream",
     "name": "stdout",
     "text": [
      "cuda\n"
     ]
    }
   ],
   "source": [
    "device = torch.device(\"cuda\" if torch.cuda.is_available() else \"cpu\")\n",
    "print(device)"
   ]
  },
  {
   "cell_type": "markdown",
   "source": [
    "## prepare dataset"
   ],
   "metadata": {
    "id": "INvxxVecdS9f",
    "pycharm": {
     "name": "#%% md\n"
    }
   }
  },
  {
   "cell_type": "code",
   "source": [
    "from torchaudio.datasets import SPEECHCOMMANDS\n",
    "import os\n",
    "\n",
    "\n",
    "class SubsetSC(SPEECHCOMMANDS):\n",
    "    def __init__(self, subset: str = None):\n",
    "        super().__init__(\"./\", download=True)\n",
    "\n",
    "        def load_list(filename):\n",
    "            filepath = os.path.join(self._path, filename)\n",
    "            with open(filepath) as fileobj:\n",
    "                return [os.path.normpath(os.path.join(self._path, line.strip())) for line in fileobj]\n",
    "\n",
    "        if subset == \"validation\":\n",
    "            self._walker = load_list(\"validation_list.txt\")\n",
    "        elif subset == \"testing\":\n",
    "            self._walker = load_list(\"testing_list.txt\")\n",
    "        elif subset == \"training\":\n",
    "            excludes = load_list(\"validation_list.txt\") + load_list(\"testing_list.txt\")\n",
    "            excludes = set(excludes)\n",
    "            self._walker = [w for w in self._walker if w not in excludes]\n",
    "\n",
    "\n",
    "# Create training and testing split of the data. We do not use validation in this tutorial.\n",
    "train_set = SubsetSC(\"training\")\n",
    "test_set = SubsetSC(\"testing\")\n",
    "\n",
    "waveform, sample_rate, label, speaker_id, utterance_number = train_set[0]"
   ],
   "metadata": {
    "id": "BiHw4X5Gb-8G",
    "executionInfo": {
     "status": "ok",
     "timestamp": 1667383668395,
     "user_tz": -60,
     "elapsed": 1751,
     "user": {
      "displayName": "Bojian Yin",
      "userId": "07330428852648629936"
     }
    },
    "pycharm": {
     "name": "#%%\n"
    }
   },
   "execution_count": 178,
   "outputs": []
  },
  {
   "cell_type": "code",
   "source": [
    "print(\"Shape of waveform: {}\".format(waveform.size()))\n",
    "print(\"Sample rate of waveform: {}\".format(sample_rate))\n",
    "\n",
    "plt.plot(waveform.t().numpy());"
   ],
   "metadata": {
    "colab": {
     "base_uri": "https://localhost:8080/",
     "height": 301
    },
    "id": "zA8prkTWcFUO",
    "executionInfo": {
     "status": "ok",
     "timestamp": 1667383668399,
     "user_tz": -60,
     "elapsed": 35,
     "user": {
      "displayName": "Bojian Yin",
      "userId": "07330428852648629936"
     }
    },
    "outputId": "9a1c836d-5758-4f8f-cc91-12715804e609",
    "pycharm": {
     "name": "#%%\n"
    }
   },
   "execution_count": 179,
   "outputs": [
    {
     "output_type": "stream",
     "name": "stdout",
     "text": [
      "Shape of waveform: torch.Size([1, 16000])\n",
      "Sample rate of waveform: 16000\n"
     ]
    },
    {
     "output_type": "display_data",
     "data": {
      "text/plain": [
       "<Figure size 432x288 with 1 Axes>"
      ],
      "image/png": "[encoded data removed]"
     },
     "metadata": {
      "needs_background": "light"
     }
    }
   ]
  },
  {
   "cell_type": "markdown",
   "source": [
    "### Labels"
   ],
   "metadata": {
    "id": "7C6SQVFpfCj7",
    "pycharm": {
     "name": "#%% md\n"
    }
   }
  },
  {
   "cell_type": "code",
   "source": [
    "labels = sorted(list(set(datapoint[2] for datapoint in train_set)))\n",
    "print(labels)"
   ],
   "metadata": {
    "colab": {
     "base_uri": "https://localhost:8080/"
    },
    "id": "CYyqFhP4cKDW",
    "executionInfo": {
     "status": "ok",
     "timestamp": 1667383685394,
     "user_tz": -60,
     "elapsed": 17016,
     "user": {
      "displayName": "Bojian Yin",
      "userId": "07330428852648629936"
     }
    },
    "outputId": "5e7a68e9-596e-4079-f39f-b6e92aebe943",
    "pycharm": {
     "name": "#%%\n"
    }
   },
   "execution_count": 180,
   "outputs": [
    {
     "output_type": "stream",
     "name": "stdout",
     "text": [
      "['backward', 'bed', 'bird', 'cat', 'dog', 'down', 'eight', 'five', 'follow', 'forward', 'four', 'go', 'happy', 'house', 'learn', 'left', 'marvin', 'nine', 'no', 'off', 'on', 'one', 'right', 'seven', 'sheila', 'six', 'stop', 'three', 'tree', 'two', 'up', 'visual', 'wow', 'yes', 'zero']\n"
     ]
    }
   ]
  },
  {
   "cell_type": "code",
   "source": [
    "# sequence length\n",
    "new_sample_rate = 300\n",
    "transform = torchaudio.transforms.Resample(orig_freq=sample_rate, new_freq=new_sample_rate)\n",
    "transformed = transform(waveform)\n",
    "\n",
    "ipd.Audio(transformed.numpy(), rate=new_sample_rate)"
   ],
   "metadata": {
    "colab": {
     "base_uri": "https://localhost:8080/",
     "height": 75
    },
    "id": "D1W3r6tjcNwy",
    "executionInfo": {
     "status": "ok",
     "timestamp": 1667383685396,
     "user_tz": -60,
     "elapsed": 37,
     "user": {
      "displayName": "Bojian Yin",
      "userId": "07330428852648629936"
     }
    },
    "outputId": "e52b6b8d-61d7-4f34-a101-e38234e8273d",
    "pycharm": {
     "name": "#%%\n"
    }
   },
   "execution_count": 181,
   "outputs": [
    {
     "output_type": "execute_result",
     "data": {
      "text/plain": [
       "<IPython.lib.display.Audio object>"
      ],
      "text/html": [
       "\n",
       "                <audio  controls=\"controls\" >\n",
       "                    <source src=\"data:audio/wav;base64,UklGRnwCAABXQVZFZm10IBAAAAABAAEALAEAAFgCAAACABAAZGF0YVgCAAA52JG1SL++sXm4irC7wVjCNbf8uIu0sK1/pxOjD5jSmwqWV6N5nAWqObXFsCPB7r+5xe7GLLmtzhPIdrzvtuqkWb2mvwnAB6+4pTTDXL+QvfCvZauAwqK6G8GDs1Cxeb6ysay2prElslu1Pa9LrLuuiLCPumCw4bF4rWCptLQUtL+6x7eMqDCxsKgGqLS69LePufKzt8b5trG8A8OMr9i/kqkWkxCVDZNunDaeBJCykkec3bd3pyOk9auBw1zVONAvuzfAu8Fuy5zAnLPttde+fdJkxci65LOYuaa7kbtWsc6yyrtywlbFw7cEvvfA2sM4vP2sbKmbqi6u+LFetEStUaEgqnS0M74+wJGwUbiKvXu7cLswsRuwlK5Bsb6mb6pUuEO5hb4EtC2xYb0LvGSp7aAkiwSX1aZsoxGp9I6pn/SlQbTcuwm0jb20vr690sI7wtrEcLjCs3i4y7640SbKicKQug61Drglv76+CLeRr52n7Kf3rHTFkrrVsFCxLq73s/e+hbzwsFq17at8q160N7k5vOCz16tdrMW2Drf5vE6njq7WsxGytrKOqiK3tsSTvwK0GbcitGPCA7FGmI+VOJX2jdOfDp68gqjARI5N1YGot7Zn8pOj3u2IoAfIFdPyprDU5aGKtFvYIJujyquxj6sc0ZOLOdoCquqzTskJhYjHR6yttcrPGKIaxvy3YZ9QzP6lOLB3zQGAmsATrP2q4uJimvKumslArY61lbfHmHGuOMOitwy1t7DGtzfAvLnytee1xq22mmabIJeKnHCfOZVUl8OYYZw=\" type=\"audio/wav\" />\n",
       "                    Your browser does not support the audio element.\n",
       "                </audio>\n",
       "              "
      ]
     },
     "metadata": {},
     "execution_count": 181
    }
   ]
  },
  {
   "cell_type": "markdown",
   "source": [
    "### MFCC example"
   ],
   "metadata": {
    "id": "lAyb2L5cfFPQ",
    "pycharm": {
     "name": "#%% md\n"
    }
   }
  },
  {
   "cell_type": "code",
   "source": [
    "# MFCC:\n",
    "transform = torchaudio.transforms.MFCC(sample_rate= 16000, n_mfcc = 40, dct_type = 2, norm='ortho', log_mels= True, melkwargs = {\"n_mels\":40,\"n_fft\": 480,\"hop_length\":160,\"f_min\":40,\"f_max\":8000})\n",
    "# transform = torchaudio.transforms.MFCC(sample_rate= 16000, n_mfcc = 40, dct_type = 2, norm=None, log_mels= False, melkwargs = {\"n_mels\":40,\"n_fft\": 2048,\"hop_length\":512,\"f_min\":40,\"f_max\":8000})\n",
    "transformed = transform(waveform)\n",
    "print(transformed.shape)\n",
    "plt.figure(figsize = (20,5))\n",
    "plt.subplot(141)\n",
    "plt.imshow(transformed.detach().numpy()[0,:,:])\n",
    "plt.subplot(142)\n",
    "plt.plot(transformed.detach().numpy()[0,:,:].mean(0))\n",
    "plt.subplot(143)\n",
    "for i in range(4):\n",
    "    plt.plot(transformed.detach().numpy()[0,i,:]+i)\n",
    "plt.subplot(144)\n",
    "for i in range(40):\n",
    "    plt.plot(transformed.detach().numpy()[0,i,:]+i)\n"
   ],
   "metadata": {
    "colab": {
     "base_uri": "https://localhost:8080/",
     "height": 338
    },
    "id": "NF6fOii0cQfJ",
    "executionInfo": {
     "status": "ok",
     "timestamp": 1667383686486,
     "user_tz": -60,
     "elapsed": 1111,
     "user": {
      "displayName": "Bojian Yin",
      "userId": "07330428852648629936"
     }
    },
    "outputId": "a4254e60-2a73-4a48-ccaa-3a8693f7bd20",
    "pycharm": {
     "name": "#%%\n"
    }
   },
   "execution_count": 182,
   "outputs": [
    {
     "output_type": "stream",
     "name": "stdout",
     "text": [
      "torch.Size([1, 40, 101])\n"
     ]
    },
    {
     "output_type": "display_data",
     "data": {
      "text/plain": [
       "<Figure size 1440x360 with 4 Axes>"
      ],
      "image/png": "[encoded data removed]"
     },
     "metadata": {
      "needs_background": "light"
     }
    }
   ]
  },
  {
   "cell_type": "code",
   "source": [
    "def label_to_index(word):\n",
    "    # Return the position of the word in labels\n",
    "    return torch.tensor(labels.index(word))\n",
    "\n",
    "\n",
    "def index_to_label(index):\n",
    "    # Return the word corresponding to the index in labels\n",
    "    # This is the inverse of label_to_index\n",
    "    return labels[index]\n",
    "\n",
    "\n",
    "word_start = \"yes\"\n",
    "index = label_to_index(word_start)\n",
    "word_recovered = index_to_label(index)\n",
    "\n",
    "print(word_start, \"-->\", index, \"-->\", word_recovered)"
   ],
   "metadata": {
    "colab": {
     "base_uri": "https://localhost:8080/"
    },
    "id": "Y8GjgqAncWI7",
    "executionInfo": {
     "status": "ok",
     "timestamp": 1667383686487,
     "user_tz": -60,
     "elapsed": 20,
     "user": {
      "displayName": "Bojian Yin",
      "userId": "07330428852648629936"
     }
    },
    "outputId": "5ce5db07-3242-4203-88d4-72430acec2c8",
    "pycharm": {
     "name": "#%%\n"
    }
   },
   "execution_count": 183,
   "outputs": [
    {
     "output_type": "stream",
     "name": "stdout",
     "text": [
      "yes --> tensor(33) --> yes\n"
     ]
    }
   ]
  },
  {
   "cell_type": "markdown",
   "source": [
    "### formate the dataset"
   ],
   "metadata": {
    "id": "2LoasqoYfQTf",
    "pycharm": {
     "name": "#%% md\n"
    }
   }
  },
  {
   "cell_type": "code",
   "source": [
    "def pad_sequence(batch):\n",
    "    # Make all tensor in a batch the same length by padding with zeros\n",
    "    batch = [item.t() for item in batch]\n",
    "    batch = torch.nn.utils.rnn.pad_sequence(batch, batch_first=True, padding_value=0.)\n",
    "    return batch.permute(0, 2, 1)\n",
    "\n",
    "\n",
    "def collate_fn(batch):\n",
    "\n",
    "    # A data tuple has the form:\n",
    "    # waveform, sample_rate, label, speaker_id, utterance_number\n",
    "\n",
    "    tensors, targets = [], []\n",
    "\n",
    "    # Gather in lists, and encode labels as indices\n",
    "    for waveform, _, label, *_ in batch:\n",
    "        tensors += [waveform]\n",
    "        targets += [label_to_index(label)]\n",
    "\n",
    "    # Group the list of tensors into a batched tensor\n",
    "    tensors = pad_sequence(tensors)\n",
    "    targets = torch.stack(targets)\n",
    "\n",
    "    return tensors, targets\n",
    "\n",
    "\n",
    "batch_size = 256\n",
    "\n",
    "if device == \"cuda\":\n",
    "    num_workers = 1\n",
    "    pin_memory = True\n",
    "else:\n",
    "    num_workers = 0\n",
    "    pin_memory = False\n",
    "\n",
    "train_loader = torch.utils.data.DataLoader(\n",
    "    train_set,\n",
    "    batch_size=batch_size,\n",
    "    shuffle=True,\n",
    "    collate_fn=collate_fn,\n",
    "    num_workers=num_workers,\n",
    "    pin_memory=pin_memory,\n",
    ")\n",
    "test_loader = torch.utils.data.DataLoader(\n",
    "    test_set,\n",
    "    batch_size=batch_size,\n",
    "    shuffle=False,\n",
    "    drop_last=False,\n",
    "    collate_fn=collate_fn,\n",
    "    num_workers=num_workers,\n",
    "    pin_memory=pin_memory,\n",
    ")"
   ],
   "metadata": {
    "id": "VJUW1oNscZ81",
    "executionInfo": {
     "status": "ok",
     "timestamp": 1667383686487,
     "user_tz": -60,
     "elapsed": 12,
     "user": {
      "displayName": "Bojian Yin",
      "userId": "07330428852648629936"
     }
    },
    "pycharm": {
     "name": "#%%\n"
    }
   },
   "execution_count": 184,
   "outputs": []
  },
  {
   "cell_type": "code",
   "source": [
    "for batch in train_loader:\n",
    "    x,y = batch\n",
    "    x = transform(x).permute(0,1,3,2)\n",
    "    print(x.shape,y.shape)\n",
    "    break"
   ],
   "metadata": {
    "colab": {
     "base_uri": "https://localhost:8080/"
    },
    "id": "hQ_7pVVKc21S",
    "executionInfo": {
     "status": "ok",
     "timestamp": 1667383686487,
     "user_tz": -60,
     "elapsed": 11,
     "user": {
      "displayName": "Bojian Yin",
      "userId": "07330428852648629936"
     }
    },
    "outputId": "48adb9db-bb87-4845-ca40-958044372e23",
    "pycharm": {
     "name": "#%%\n"
    }
   },
   "execution_count": 185,
   "outputs": [
    {
     "output_type": "stream",
     "name": "stdout",
     "text": [
      "torch.Size([256, 1, 101, 40]) torch.Size([256])\n"
     ]
    }
   ]
  },
  {
   "cell_type": "code",
   "execution_count": 186,
   "metadata": {
    "id": "ATJJVqdB9w3_",
    "executionInfo": {
     "status": "ok",
     "timestamp": 1667383686488,
     "user_tz": -60,
     "elapsed": 10,
     "user": {
      "displayName": "Bojian Yin",
      "userId": "07330428852648629936"
     }
    },
    "pycharm": {
     "name": "#%%\n"
    }
   },
   "outputs": [],
   "source": [
    "in_dim = x.shape[1]*x.shape[-1]-4\n",
    "T = x.shape[2]\n",
    "n_classes = 35"
   ]
  },
  {
   "cell_type": "markdown",
   "metadata": {
    "id": "2sycRGkyU4YU",
    "pycharm": {
     "name": "#%% md\n"
    }
   },
   "source": [
    "Define the Network\n",
    "------------------\n",
    "\n",
    "<!-- For this tutorial we will use a convolutional neural network to process\n",
    "the raw audio data. Usually more advanced transforms are applied to the\n",
    "audio data, however CNNs can be used to accurately process the raw data.\n",
    "The specific architecture is modeled after the M5 network architecture\n",
    "described in `this paper <https://arxiv.org/pdf/1610.00087.pdf>`__. An\n",
    "important aspect of models processing raw audio data is the receptive\n",
    "field of their first layer’s filters. Our model’s first filter is length\n",
    "80 so when processing audio sampled at 8kHz the receptive field is\n",
    "around 10ms (and at 4kHz, around 20 ms). This size is similar to speech\n",
    "processing applications that often use receptive fields ranging from\n",
    "20ms to 40ms. -->\n",
    "\n",
    "\n"
   ]
  },
  {
   "cell_type": "code",
   "execution_count": 187,
   "metadata": {
    "id": "g6bJZrQMU4Ya",
    "executionInfo": {
     "status": "ok",
     "timestamp": 1667383687591,
     "user_tz": -60,
     "elapsed": 1112,
     "user": {
      "displayName": "Bojian Yin",
      "userId": "07330428852648629936"
     }
    },
    "pycharm": {
     "name": "#%%\n"
    }
   },
   "outputs": [],
   "source": [
    "\"\"\"\n",
    "Liquid time constant snn\n",
    "\"\"\"\n",
    "import os\n",
    "import shutil\n",
    "import torch\n",
    "from torch import nn\n",
    "from torch.nn.parameter import Parameter\n",
    "import torch.nn.functional as F\n",
    "from torch.nn import init\n",
    "from torch.autograd import Variable\n",
    "import math\n",
    "def create_exp_dir(path, scripts_to_save=None):\n",
    "    if not os.path.exists(path):\n",
    "        os.mkdir(path)\n",
    "\n",
    "    print('Experiment dir : {}'.format(path))\n",
    "    if scripts_to_save is not None:\n",
    "        os.mkdir(os.path.join(path, 'scripts'))\n",
    "        for script in scripts_to_save:\n",
    "            dst_file = os.path.join(path, 'scripts', os.path.basename(script))\n",
    "            shutil.copyfile(script, dst_file)\n",
    "            \n",
    "\n",
    "def model_save(fn, model, criterion, optimizer):\n",
    "    with open(fn, 'wb') as f:\n",
    "        torch.save([model, criterion, optimizer], f)\n",
    "\n",
    "def model_load(fn):\n",
    "    with open(fn, 'rb') as f:\n",
    "        model, criterion, optimizer = torch.load(f)\n",
    "    return model, criterion, optimizer\n",
    "\n",
    "def save_checkpoint(state, is_best, prefix, filename='_rec2_bias_checkpoint.pth.tar'):\n",
    "    print('saving at ', prefix+filename)\n",
    "    torch.save(state, prefix+filename)\n",
    "    if is_best:\n",
    "        shutil.copyfile(prefix+filename, prefix+ '_rec2_bias_model_best.pth.tar')\n",
    "\n",
    "\n",
    "def count_parameters(model):\n",
    "    return sum(p.numel() for p in model.network.parameters() if p.requires_grad)\n",
    "\n",
    "###############################################################################################\n",
    "###############################    Define SNN layer   #########################################\n",
    "###############################################################################################\n",
    "\n",
    "b_j0 = .1  # neural threshold baseline\n",
    "R_m = 3  # membrane resistance\n",
    "dt = 1  \n",
    "gamma = .5  # gradient scale\n",
    "lens = 0.5\n",
    "\n",
    "def gaussian(x, mu=0., sigma=.5):\n",
    "    return torch.exp(-((x - mu) ** 2) / (2 * sigma ** 2)) / torch.sqrt(2 * torch.tensor(math.pi)) / sigma\n",
    "\n",
    "\n",
    "class ActFun_adp(torch.autograd.Function):\n",
    "    @staticmethod\n",
    "    def forward(ctx, input):  # input = membrane potential- threshold\n",
    "        ctx.save_for_backward(input)\n",
    "        return input.gt(0).float()  # is firing ???\n",
    "\n",
    "    @staticmethod\n",
    "    def backward(ctx, grad_output):  # approximate the gradients\n",
    "        input, = ctx.saved_tensors\n",
    "        grad_input = grad_output.clone()\n",
    "        # temp = abs(input) < lens\n",
    "        scale = 6.0\n",
    "        hight = .15\n",
    "        # temp = torch.exp(-(input**2)/(2*lens**2))/torch.sqrt(2*torch.tensor(math.pi))/lens\n",
    "        temp = gaussian(input, mu=0., sigma=lens) * (1. + hight) \\\n",
    "               - gaussian(input, mu=lens, sigma=scale * lens) * hight \\\n",
    "               - gaussian(input, mu=-lens, sigma=scale * lens) * hight\n",
    "        # temp =  gaussian(input, mu=0., sigma=lens)\n",
    "        return grad_input * temp.float() * gamma\n",
    "        # return grad_input\n",
    "\n",
    "\n",
    "act_fun_adp = ActFun_adp.apply\n",
    "\n",
    "def mem_update_adp(inputs, mem, spike, tau_adp,tau_m, b, dt=1, isAdapt=1):\n",
    "    alpha = tau_m # exp(-dt/tau) = sigmoid(x)\n",
    "    \n",
    "    ro = tau_adp\n",
    "\n",
    "    if isAdapt:\n",
    "        beta = 1.8\n",
    "    else:\n",
    "        beta = 0.\n",
    "\n",
    "    b = ro * b + (1 - ro) * spike\n",
    "    B = b_j0 + beta * b\n",
    "    \n",
    "\n",
    "\n",
    "    d_mem = -mem + inputs\n",
    "    mem = mem + d_mem*alpha\n",
    "    inputs_ = mem - B\n",
    "\n",
    "    spike = act_fun_adp(inputs_)  # act_fun : approximation firing function\n",
    "    mem = (1-spike)*mem\n",
    "\n",
    "    return mem, spike, B, b\n",
    "\n",
    "\n",
    "def output_Neuron(inputs, mem, tau_m, dt=1):\n",
    "    \"\"\"\n",
    "    The read out neuron is leaky integrator without spike\n",
    "    \"\"\"\n",
    "    d_mem = -mem  +  inputs\n",
    "    mem = mem+d_mem*tau_m\n",
    "    return mem\n",
    "###############################################################################################\n",
    "###########################Liquid time-constant ####################################\n",
    "###############################################################################################\n",
    "class SNN_rec_cell(nn.Module): # layer\n",
    "    def __init__(self, input_size, hidden_size,is_rec = True,is_LTC=True):\n",
    "        super(SNN_rec_cell, self).__init__()\n",
    "    \n",
    "        \n",
    "        self.input_size = input_size\n",
    "        self.hidden_size = hidden_size \n",
    "        self.is_rec = is_rec\n",
    "        self.is_LTC = is_LTC\n",
    "\n",
    "        if is_rec:\n",
    "            self.layer1_x = nn.Linear(input_size+hidden_size, hidden_size)\n",
    "        else:\n",
    "            self.layer1_x = nn.Linear(input_size, hidden_size)\n",
    "        \n",
    "        # time-constant definiation and initilization \n",
    "        if is_LTC:\n",
    "            self.layer1_tauAdp = nn.Linear(2*hidden_size, hidden_size) # for each neuron's tau, all N neuorns, 2  \n",
    "            self.layer1_tauM = nn.Linear(2*hidden_size, hidden_size)\n",
    "            nn.init.xavier_uniform_(self.layer1_tauAdp.weight)\n",
    "            nn.init.xavier_uniform_(self.layer1_tauM.weight)\n",
    "        else:\n",
    "            self.tau_adp = nn.Parameter(torch.Tensor(hidden_size))\n",
    "            self.tau_m =nn.Parameter(torch.Tensor(hidden_size))\n",
    "            nn.init.normal_(self.tau_adp, 4.6,.1)\n",
    "            nn.init.normal_(self.tau_m, 3.,.1)\n",
    "        self.act1 = nn.Sigmoid()#[0,1],\n",
    "        self.act2 = nn.Sigmoid()\n",
    "\n",
    "        nn.init.xavier_uniform_(self.layer1_x.weight)\n",
    "        \n",
    "\n",
    "    def forward(self, x_t, mem_t,spk_t,b_t):  \n",
    "        # input calcualtion  \n",
    "        if self.is_rec:\n",
    "            dense_x = self.layer1_x(torch.cat((x_t,spk_t),dim=-1))\n",
    "        else:\n",
    "            dense_x = self.layer1_x(x_t)\n",
    "\n",
    "        # time-constant calculation\n",
    "        if self.is_LTC:\n",
    "            tauM1 = self.act1(self.layer1_tauM(torch.cat((dense_x,mem_t),dim=-1))) # add resrictions \n",
    "            tauAdp1 = self.act1(self.layer1_tauAdp(torch.cat((dense_x,b_t),dim=-1)))\n",
    "        else:\n",
    "            tauM1 = self.act1(self.tau_m)\n",
    "            tauAdp1 = self.act2(self.tau_adp)\n",
    "        \n",
    "        # states updates\n",
    "        mem_1,spk_1,_,b_1 = mem_update_adp(dense_x, mem=mem_t,spike=spk_t,\n",
    "                                        tau_adp=tauAdp1,tau_m=tauM1,b =b_t)\n",
    "\n",
    "        return mem_1,spk_1,b_1\n",
    "\n",
    "    def compute_output_size(self):\n",
    "        return [self.hidden_size]\n",
    "\n",
    "class SNN(nn.Module):\n",
    "    def __init__(self, input_size, hidden_size,output_size,is_LTC=True):\n",
    "        super(SNN, self).__init__()\n",
    "        \n",
    "        self.input_size = input_size\n",
    "        self.hidden_size = hidden_size \n",
    "        self.output_size = output_size\n",
    "        \n",
    "        self.rnn_name = 'SNN: is_LTC-'+str(is_LTC)\n",
    "\n",
    "        self.snn_a = SNN_rec_cell(input_size,hidden_size,True,is_LTC)\n",
    " \n",
    "\n",
    "        self.snn3 = SNN_rec_cell(hidden_size,hidden_size,True,is_LTC)\n",
    "        \n",
    "\n",
    "        self.layer3_x = nn.Linear(hidden_size,output_size,bias=True)\n",
    "        self.layer3_tauM = nn.Linear(output_size*2,output_size)\n",
    "        self.tau_m_o = nn.Parameter(torch.Tensor(output_size))\n",
    "\n",
    "        nn.init.constant_(self.tau_m_o, 20.)\n",
    "        # nn.init.constant_(self.tau_m_o, 0.)\n",
    "        nn.init.xavier_uniform_(self.layer3_x.weight)\n",
    "        nn.init.zeros_(self.layer3_tauM.weight)\n",
    "        self.act3 = nn.Sigmoid()\n",
    "        self.relu = nn.ELU()\n",
    "\n",
    "        self.dp1 = nn.Dropout(0.1)#.1\n",
    "        self.dp2 = nn.Dropout(0.1)\n",
    "        self.dp3 = nn.Dropout(0.1)\n",
    "        self.fr = 0\n",
    "        \n",
    "    def forward(self, inputs, h):\n",
    "        \n",
    "        \n",
    "        # outputs = []\n",
    "        hiddens = []\n",
    " \n",
    "        b,c,t,in_dim= inputs.shape\n",
    "\n",
    "        for i in range(t):\n",
    "            x_down = inputs[:,:,i,:].reshape(b,self.input_size).float()\n",
    "\n",
    "            mem_1,spk_1,b_1 = self.snn_a(x_down, mem_t=h[0],spk_t=h[1],b_t = h[2])\n",
    "            mem_2,spk_2,b_2 = self.snn3(spk_1, mem_t=h[3],spk_t=h[4],b_t = h[5])\n",
    "\n",
    "            dense3_x = self.layer3_x(spk_2)\n",
    "            # tauM2 = self.act3(self.layer3_tauM(torch.cat((dense3_x, h[-2]),dim=-1)))\n",
    "            tauM2 = torch.exp(-1./(self.tau_m_o))\n",
    "            mem_out = output_Neuron(dense3_x,mem=h[-2],tau_m = tauM2)\n",
    "\n",
    "            out =mem_out\n",
    "            self.fr = self.fr+ spk_1.detach().cpu().numpy().mean()/2.\\\n",
    "                + spk_2.detach().cpu().numpy().mean()/2.\n",
    "\n",
    "            h = (mem_1,spk_1,b_1, \n",
    "                mem_2,spk_2,b_2, \n",
    "                mem_out,\n",
    "                out)\n",
    "\n",
    "            f_output = F.log_softmax(out, dim=1)\n",
    "            hiddens.append(h)\n",
    "\n",
    "        \n",
    "        final_state = h\n",
    "        return f_output, final_state, hiddens\n",
    "\n",
    "class SeqModel(nn.Module):\n",
    "    def __init__(self, ninp, nhid, nout,is_rec=True,is_LTC = False):\n",
    "\n",
    "        super(SeqModel, self).__init__()\n",
    "        self.nout = nout    # Should be the number of classes\n",
    "        self.nhid = nhid\n",
    "        self.is_rec = is_rec\n",
    "        self.is_LTC= is_LTC\n",
    "\n",
    "        self.network = SNN(input_size=ninp, hidden_size=nhid, output_size=nout)\n",
    "        \n",
    "\n",
    "    def forward(self, inputs, hidden):\n",
    "      \n",
    "        t = inputs.size()[2]\n",
    "        # print(inputs.shape) \n",
    "        outputs = []\n",
    "        \n",
    "        f_output, hidden, hiddens= self.network.forward(inputs, hidden)\n",
    "        outputs.append(f_output)\n",
    "        return outputs, hidden\n",
    "\n",
    "    def init_hidden(self, bsz):\n",
    "        weight = next(self.parameters()).data\n",
    "        return (weight.new(bsz,self.nhid).uniform_(),\n",
    "                weight.new(bsz,self.nhid).zero_(),\n",
    "                weight.new(bsz,self.nhid).fill_(b_j0),\n",
    "                # layer 3\n",
    "                weight.new(bsz,self.nhid).uniform_(),\n",
    "                weight.new(bsz,self.nhid).zero_(),\n",
    "                weight.new(bsz,self.nhid).fill_(b_j0),\n",
    "                # layer out\n",
    "                weight.new(bsz,self.nout).zero_(),\n",
    "                # sum spike\n",
    "                weight.new(bsz,self.nout).zero_(),\n",
    "                )\n",
    "\n",
    "\n"
   ]
  },
  {
   "cell_type": "markdown",
   "metadata": {
    "id": "reBROJyycKef",
    "pycharm": {
     "name": "#%% md\n"
    }
   },
   "source": [
    "## FPTT function:"
   ]
  },
  {
   "cell_type": "code",
   "execution_count": 188,
   "metadata": {
    "id": "L1Gd6hay8Kkj",
    "executionInfo": {
     "status": "ok",
     "timestamp": 1667383687591,
     "user_tz": -60,
     "elapsed": 9,
     "user": {
      "displayName": "Bojian Yin",
      "userId": "07330428852648629936"
     }
    },
    "pycharm": {
     "name": "#%%\n"
    }
   },
   "outputs": [],
   "source": [
    "# fptt parameters\n",
    "alpha = .5 # 0.1\n",
    "beta = .5 # how march spatial vs temporal\n",
    "rho = 0."
   ]
  },
  {
   "cell_type": "code",
   "execution_count": 189,
   "metadata": {
    "id": "zLqvBu8lcKGQ",
    "executionInfo": {
     "status": "ok",
     "timestamp": 1667383687591,
     "user_tz": -60,
     "elapsed": 7,
     "user": {
      "displayName": "Bojian Yin",
      "userId": "07330428852648629936"
     }
    },
    "pycharm": {
     "name": "#%%\n"
    }
   },
   "outputs": [],
   "source": [
    "def get_stats_named_params( model ):\n",
    "    named_params = {}\n",
    "    for name, param in model.named_parameters():\n",
    "        sm, lm, dm = param.detach().clone(), 0.0*param.detach().clone(), 0.0*param.detach().clone()\n",
    "        named_params[name] = (param, sm, lm, dm)\n",
    "    return named_params\n",
    "\n",
    "def post_optimizer_updates( named_params):\n",
    "    for name in named_params:\n",
    "        param, sm, lm, dm = named_params[name]\n",
    "        lm.data.add_( -alpha * (param - sm) )\n",
    "        sm.data.mul_( (1.0-beta) )\n",
    "        sm.data.add_( beta * param - (beta/alpha) * lm )\n",
    "\n",
    "def get_regularizer_named_params( named_params,  _lambda=1.0 ):\n",
    "    regularization = torch.zeros( [], device=device )\n",
    "    for name in named_params:\n",
    "        param, sm, lm, dm = named_params[name]\n",
    "        regularization += (rho-1.) * torch.sum( param * lm )\n",
    "        r_p = _lambda * 0.5 * alpha * torch.sum( torch.square(param - sm) )\n",
    "        regularization += r_p\n",
    "        # print(name,r_p)\n",
    "    return regularization \n",
    "\n",
    "def reset_named_params(named_params):\n",
    "    for name in named_params:\n",
    "        param, sm, lm, dm = named_params[name]\n",
    "        param.data.copy_(sm.data)"
   ]
  },
  {
   "cell_type": "markdown",
   "metadata": {
    "id": "ju53O0_m8jYO",
    "pycharm": {
     "name": "#%% md\n"
    }
   },
   "source": [
    "## test function"
   ]
  },
  {
   "cell_type": "code",
   "execution_count": 190,
   "metadata": {
    "id": "6a0CYMDB8i12",
    "executionInfo": {
     "status": "ok",
     "timestamp": 1667383687592,
     "user_tz": -60,
     "elapsed": 8,
     "user": {
      "displayName": "Bojian Yin",
      "userId": "07330428852648629936"
     }
    },
    "pycharm": {
     "name": "#%%\n"
    }
   },
   "outputs": [],
   "source": [
    "def test(model, test_loader):\n",
    "    model.eval()\n",
    "    test_loss = 0\n",
    "    correct = 0\n",
    "\n",
    "    # for data, target in test_loader:\n",
    "    for i ,(data, target) in enumerate(test_loader):\n",
    "        data = transform(data).permute(0,1,3,2)\n",
    "        data, target = data.to(device), target.to(device)\n",
    "        data = data.view(-1, 1,T,40)[:,:,:,4:]\n",
    "        with torch.no_grad():\n",
    "            model.eval()\n",
    "            hidden = model.init_hidden(data.size(0))\n",
    "        \n",
    "            outputs, hidden= model(data, hidden) \n",
    "           \n",
    "            output = outputs[-1]\n",
    "            # output = torch.stack(outputs[-10:]).mean(dim=0)\n",
    "            \n",
    "            test_loss += F.nll_loss(output, target, reduction='sum').data.item()\n",
    "            pred = output.data.max(1, keepdim=True)[1]\n",
    "        \n",
    "        correct += pred.eq(target.data.view_as(pred)).cpu().sum()\n",
    "        torch.cuda.empty_cache()\n",
    "\n",
    "    test_loss /= len(test_loader.dataset)\n",
    "    print('\\nTest set: Average loss: {:.4f}, Accuracy: {}/{} ({:.0f}%)\\n'.format(\n",
    "           test_loss, correct, len(test_loader.dataset),\n",
    "           100. * correct / len(test_loader.dataset)))\n",
    "    return test_loss, 100. * correct / len(test_loader.dataset)"
   ]
  },
  {
   "cell_type": "markdown",
   "metadata": {
    "id": "c2gyUrzh9Ali",
    "pycharm": {
     "name": "#%% md\n"
    }
   },
   "source": [
    "## training function"
   ]
  },
  {
   "cell_type": "code",
   "execution_count": 191,
   "metadata": {
    "id": "2tsvt3Ny9AWv",
    "executionInfo": {
     "status": "ok",
     "timestamp": 1667383687593,
     "user_tz": -60,
     "elapsed": 9,
     "user": {
      "displayName": "Bojian Yin",
      "userId": "07330428852648629936"
     }
    },
    "pycharm": {
     "name": "#%%\n"
    }
   },
   "outputs": [],
   "source": [
    "# training parameters\n",
    "\n",
    "K  = T # sequence length\n",
    "omega = int(T/K)\n",
    "clip = -1. # default 0.1\n",
    "log_interval = 100\n",
    "lr = 1e-3 # \n",
    "# sequence is long: lr should be smaller \n",
    "# shorter: lr can be  3e-3"
   ]
  },
  {
   "cell_type": "code",
   "execution_count": 192,
   "metadata": {
    "id": "lulnr6ue8x2N",
    "executionInfo": {
     "status": "ok",
     "timestamp": 1667383687593,
     "user_tz": -60,
     "elapsed": 8,
     "user": {
      "displayName": "Bojian Yin",
      "userId": "07330428852648629936"
     }
    },
    "pycharm": {
     "name": "#%%\n"
    }
   },
   "outputs": [],
   "source": [
    "\n",
    "def train(train_loader, epoch,n_classes, model, named_params,optimizer):\n",
    "    global steps\n",
    "    global estimate_class_distribution\n",
    "\n",
    "    train_loss = 0\n",
    "    total_clf_loss = 0\n",
    "    total_regularizaton_loss = 0\n",
    "    total_oracle_loss = 0\n",
    "    model.train()\n",
    "\n",
    "\n",
    "    for batch_idx, (data, target) in enumerate(train_loader):\n",
    "        data = transform(data).permute(0,1,3,2)\n",
    "        data, target = data.to(device), target.to(device)\n",
    "        data = data.view(-1, 1,T,40)[:,:,:,4:]\n",
    "\n",
    "       \n",
    "        B = target.size()[0]\n",
    "        \n",
    "\n",
    "        for p in range(K):\n",
    "            \n",
    "            input_x  = data[:,:,p:(p+1)].detach().reshape(B,in_dim).float()\n",
    "            if p>1:\n",
    "                input_pre = data[:,:,(p-1):p].reshape(B,in_dim).float()\n",
    "                mu_x = torch.abs(input_x + input_pre)/2.\n",
    "                std_abs = torch.abs(input_x - input_pre)\n",
    "            else:\n",
    "                mu_x = torch.zeros(B,in_dim).to(device)\n",
    "                std_abs = torch.abs(input_x).to(device)\n",
    "\n",
    "            # calculated mu*std\n",
    "            snr = torch.tanh(4*std_abs.mean(-1)*mu_x.mean(-1))\n",
    "\n",
    "            if p==0:\n",
    "                h = model.init_hidden(data.size(0))\n",
    "\n",
    "            else: \n",
    "                h = tuple(v.detach() for v in h)\n",
    "\n",
    "            # print([p.shape for p in h])\n",
    "            if p<K-1:\n",
    "                if epoch < 10:\n",
    "                    oracle_prob = 0*estimate_class_distribution[target, p] + (1.0/n_classes)\n",
    "                else:\n",
    "                    oracle_prob = estimate_class_distribution[target, p]\n",
    "            else:\n",
    "                oracle_prob = F.one_hot(target,n_classes).float() \n",
    "\n",
    "            \n",
    "            o, h,hs = model.network.forward(data[:,:,p:(p+1)], h )\n",
    "\n",
    "            prob_out = F.softmax(h[-1], dim=1)\n",
    "            output = F.log_softmax(h[-1], dim=1) \n",
    "          \n",
    "            if p<K-1:\n",
    "                with torch.no_grad():\n",
    "                    filled_class = [0]*n_classes\n",
    "                    n_filled = 0\n",
    "                    for j in range(B):\n",
    "                        if n_filled==n_classes: break\n",
    "                        y = target[j].item()\n",
    "                        if filled_class[y] == 0 and (torch.argmax(prob_out[j]) != target[j]):\n",
    "                            filled_class[y] = 1\n",
    "                            estimate_class_distribution[y, p] = prob_out[j].detach()\n",
    "                            n_filled += 1\n",
    "                            \n",
    "            \n",
    "            optimizer.zero_grad()\n",
    "            \n",
    "            # clf_loss = (p+1)/(K)*F.nll_loss(output, target)\n",
    "            clf_loss = snr*F.nll_loss(output, target,reduction='none')\n",
    "            clf_loss = torch.mean(clf_loss)\n",
    "    \n",
    "            # oracle_loss = 1.0 *torch.mean( -oracle_prob.to(device) * output )\n",
    "            oracle_loss = (1 - (p+1)/(K)) *torch.mean(torch.mean( -oracle_prob.to(device) * output,axis=1)*snr)\n",
    "                \n",
    "            regularizer = get_regularizer_named_params( named_params, _lambda=1.0 )      \n",
    "            loss = clf_loss  + regularizer  + oracle_loss\n",
    "\n",
    "            loss.backward()\n",
    "\n",
    "            if clip > 0:\n",
    "                torch.nn.utils.clip_grad_norm_(model.parameters(), clip)\n",
    "                \n",
    "                \n",
    "            optimizer.step()\n",
    "            post_optimizer_updates( named_params)\n",
    "        \n",
    "            train_loss += loss.item()\n",
    "            total_clf_loss += clf_loss.item()\n",
    "            total_regularizaton_loss += regularizer #.item()\n",
    "            total_oracle_loss += oracle_loss.item()\n",
    "        \n",
    "        if batch_idx > 0 and batch_idx % log_interval == 0:\n",
    "            print('Train Epoch: {} [{}/{} ({:.0f}%)]\\tlr: {:.6f}\\tLoss: {:.6f}\\tOracle: \\\n",
    "                {:.6f}\\tClf: {:.6f}\\tReg: {:.6f}\\tFr: {:.6f}'.format(\n",
    "                   epoch, batch_idx * batch_size, len(train_loader.dataset),\n",
    "                   100. * batch_idx / len(train_loader), lr, train_loss / log_interval, \n",
    "                   total_oracle_loss / log_interval, \n",
    "                   total_clf_loss / log_interval, total_regularizaton_loss / log_interval, model.network.fr/T/log_interval))\n",
    "            # print(model.network.fr)\n",
    "            train_loss = 0\n",
    "            total_clf_loss = 0\n",
    "            total_regularizaton_loss = 0\n",
    "            total_oracle_loss = 0\n",
    "            model.network.fr = 0\n"
   ]
  },
  {
   "cell_type": "code",
   "execution_count": 193,
   "metadata": {
    "id": "VVXDgmGgZ4Ms",
    "executionInfo": {
     "status": "ok",
     "timestamp": 1667383687594,
     "user_tz": -60,
     "elapsed": 9,
     "user": {
      "displayName": "Bojian Yin",
      "userId": "07330428852648629936"
     }
    },
    "pycharm": {
     "name": "#%%\n"
    }
   },
   "outputs": [],
   "source": [
    "def get_xt(p, step, T, inputs):\n",
    "    start = p*step\n",
    "    end = (p+1)*step\n",
    "    if (end >= T): end=T\n",
    "        \n",
    "    x = inputs[ :,:,start : end,: ]\n",
    "    return x, start, end"
   ]
  },
  {
   "cell_type": "code",
   "execution_count": 194,
   "metadata": {
    "id": "SbQo6fCaZ4Mt",
    "executionInfo": {
     "status": "ok",
     "timestamp": 1667383687594,
     "user_tz": -60,
     "elapsed": 9,
     "user": {
      "displayName": "Bojian Yin",
      "userId": "07330428852648629936"
     }
    },
    "pycharm": {
     "name": "#%%\n"
    }
   },
   "outputs": [],
   "source": [
    "\n",
    "def train_K(train_loader, epoch,n_classes, model, named_params,optimizer):\n",
    "    global steps\n",
    "    global estimate_class_distribution\n",
    "\n",
    "    train_loss = 0\n",
    "    total_clf_loss = 0\n",
    "    total_regularizaton_loss = 0\n",
    "    total_oracle_loss = 0\n",
    "    model.train()\n",
    "\n",
    "\n",
    "    for batch_idx, (data, target) in enumerate(train_loader):\n",
    "        data = transform(data).permute(0,1,3,2)\n",
    "        data, target = data.to(device), target.to(device)\n",
    "        data = data.view(-1, 1,T,40)[:,:,:,4:]\n",
    "      \n",
    "       \n",
    "        B = target.size()[0]\n",
    "        \n",
    "        \n",
    "        for p in range(K):\n",
    "            x, start, end = get_xt(p, omega, T, data)\n",
    "            if p==0:\n",
    "                h = model.init_hidden(data.size(0))\n",
    "            else: \n",
    "                h = tuple(v.detach() for v in h)\n",
    "\n",
    "            # print([p.shape for p in h])\n",
    "            if p<K-1:\n",
    "                if epoch < 10:\n",
    "                    oracle_prob = 0*estimate_class_distribution[target, p] + (1.0/n_classes)\n",
    "                else:\n",
    "                    oracle_prob = estimate_class_distribution[target, p]\n",
    "            else:\n",
    "                oracle_prob = F.one_hot(target,n_classes).float() \n",
    "\n",
    "            \n",
    "            \n",
    "            o, h,hs = model.network.forward(x, h )\n",
    "\n",
    "            prob_out = F.softmax(h[-1], dim=1)\n",
    "            output = F.log_softmax(h[-1], dim=1) \n",
    "          \n",
    "            if p<K-1:\n",
    "                with torch.no_grad():\n",
    "                    filled_class = [0]*n_classes\n",
    "                    n_filled = 0\n",
    "                    for j in range(B):\n",
    "                        if n_filled==n_classes: break\n",
    "                        y = target[j].item()\n",
    "                        if filled_class[y] == 0 and (torch.argmax(prob_out[j]) != target[j]):\n",
    "                            filled_class[y] = 1\n",
    "                            estimate_class_distribution[y, p] = prob_out[j].detach()\n",
    "                            n_filled += 1\n",
    "                            \n",
    "            \n",
    "            optimizer.zero_grad()\n",
    "            \n",
    "            clf_loss = (p+1)/(K)*F.nll_loss(output, target)\n",
    "            # clf_loss = snr*F.cross_entropy(output, target,reduction='none')\n",
    "            # clf_loss = torch.mean(clf_loss)\n",
    "    \n",
    "            # oracle_loss = 1.0 *torch.mean( -oracle_prob.to(device) * output )\n",
    "            oracle_loss = (1 - (p+1)/(K)) *torch.mean( -oracle_prob.to(device) * output)\n",
    "                \n",
    "            regularizer = get_regularizer_named_params( named_params, _lambda=1.0 )      \n",
    "            loss = clf_loss  + regularizer  + oracle_loss\n",
    "\n",
    "            loss.backward()\n",
    "\n",
    "            if clip > 0:\n",
    "                torch.nn.utils.clip_grad_norm_(model.parameters(), clip)\n",
    "                \n",
    "                \n",
    "            optimizer.step()\n",
    "            post_optimizer_updates( named_params)\n",
    "        \n",
    "            train_loss += loss.item()\n",
    "            total_clf_loss += clf_loss.item()\n",
    "            total_regularizaton_loss += regularizer #.item()\n",
    "            total_oracle_loss += oracle_loss.item()\n",
    "        \n",
    "        if batch_idx > 0 and batch_idx % log_interval == 0:\n",
    "            print('Train Epoch: {} [{}/{} ({:.0f}%)]\\tlr: {:.6f}\\tLoss: {:.6f}\\tOracle: \\\n",
    "                {:.6f}\\tClf: {:.6f}\\tReg: {:.6f}\\tFr: {:.6f}'.format(\n",
    "                   epoch, batch_idx * batch_size, len(train_loader.dataset),\n",
    "                   100. * batch_idx / len(train_loader), lr, train_loss / log_interval, \n",
    "                   total_oracle_loss / log_interval, \n",
    "                   total_clf_loss / log_interval, total_regularizaton_loss / log_interval, model.network.fr/T/log_interval))\n",
    "            # print(model.network.fr)\n",
    "            train_loss = 0\n",
    "            total_clf_loss = 0\n",
    "            total_regularizaton_loss = 0\n",
    "            total_oracle_loss = 0\n",
    "            model.network.fr = 0\n"
   ]
  },
  {
   "cell_type": "code",
   "execution_count": 195,
   "metadata": {
    "id": "6tuWZEmYCwoH",
    "executionInfo": {
     "status": "ok",
     "timestamp": 1667383687594,
     "user_tz": -60,
     "elapsed": 8,
     "user": {
      "displayName": "Bojian Yin",
      "userId": "07330428852648629936"
     }
    },
    "pycharm": {
     "name": "#%%\n"
    }
   },
   "outputs": [],
   "source": [
    "model = SeqModel(ninp=in_dim,\n",
    "                    nhid=128,\n",
    "                    nout=n_classes)\n",
    "model.to(device)\n",
    "total_params = count_parameters(model)"
   ]
  },
  {
   "cell_type": "code",
   "execution_count": 196,
   "metadata": {
    "id": "eYFlr74NU4Y5",
    "executionInfo": {
     "status": "ok",
     "timestamp": 1667383687595,
     "user_tz": -60,
     "elapsed": 9,
     "user": {
      "displayName": "Bojian Yin",
      "userId": "07330428852648629936"
     }
    },
    "pycharm": {
     "name": "#%%\n"
    }
   },
   "outputs": [],
   "source": [
    "optimizer = optim.Adam(model.parameters(), lr=lr)#, weight_decay=0.0001)\n",
    "scheduler = optim.lr_scheduler.StepLR(optimizer, step_size=20, gamma=0.5)  # reduce the learning after 20 epochs by a factor of 10"
   ]
  },
  {
   "cell_type": "markdown",
   "metadata": {
    "id": "xmwAqWtPFzMq",
    "pycharm": {
     "name": "#%% md\n"
    }
   },
   "source": [
    "Training and Testing the Network\n",
    "--------------------------------\n",
    "\n",
    "Now let’s define a training function that will feed our training data\n",
    "into the model and perform the backward pass and optimization steps. For\n",
    "training, the loss we will use is the negative log-likelihood. The\n",
    "network will then be tested after each epoch to see how the accuracy\n",
    "varies during the training."
   ]
  },
  {
   "cell_type": "code",
   "execution_count": 197,
   "metadata": {
    "colab": {
     "base_uri": "https://localhost:8080/"
    },
    "id": "U_qyEdlAU5wH",
    "outputId": "a5268cdb-b01e-4e56-ee64-7a9bd763d209",
    "executionInfo": {
     "status": "ok",
     "timestamp": 1667383700692,
     "user_tz": -60,
     "elapsed": 13106,
     "user": {
      "displayName": "Bojian Yin",
      "userId": "07330428852648629936"
     }
    },
    "pycharm": {
     "name": "#%%\n"
    }
   },
   "outputs": [
    {
     "output_type": "stream",
     "name": "stdout",
     "text": [
      "\n",
      "Test set: Average loss: 3.5815, Accuracy: 279/11005 (3%)\n",
      "\n"
     ]
    }
   ],
   "source": [
    "test_loss, acc1 = test( model, test_loader )"
   ]
  },
  {
   "cell_type": "code",
   "execution_count": null,
   "metadata": {
    "id": "RDVycao8F1Sl",
    "pycharm": {
     "name": "#%%\n"
    }
   },
   "outputs": [],
   "source": [
    "epochs = 30\n",
    "named_params = get_stats_named_params( model )\n",
    "prefix ='save name'\n",
    "all_test_losses = []\n",
    "best_acc1 = 20\n",
    "\n",
    "estimate_class_distribution = torch.zeros(n_classes, T, n_classes, dtype=torch.float)\n",
    "for epoch in range(epochs):\n",
    "    train(train_loader, epoch,n_classes, model, named_params,optimizer)   \n",
    "\n",
    "    reset_named_params(named_params)\n",
    "\n",
    "\n",
    "    test_loss, acc1 = test( model, test_loader )\n",
    "\n",
    "\n",
    "    scheduler.step()\n",
    "\n",
    "        \n",
    "    # remember best acc@1 and save checkpoint\n",
    "    is_best = acc1 > best_acc1\n",
    "    best_acc1 = max(acc1, best_acc1)\n",
    "        \n",
    "    # save_checkpoint({\n",
    "    #         'epoch': epoch + 1,\n",
    "    #         'state_dict': model.state_dict(),\n",
    "    #         #'oracle_state_dict': oracle.state_dict(),\n",
    "    #         'best_acc1': best_acc1,\n",
    "    #         'optimizer' : optimizer.state_dict(),\n",
    "    #         #'oracle_optimizer' : oracle_optim.state_dict(),\n",
    "    #     }, is_best, prefix=prefix)\n",
    "\n",
    "    all_test_losses.append(test_loss)\n",
    "\n",
    "test_loss, acc1 = test( model, test_loader )"
   ]
  },
  {
   "cell_type": "code",
   "execution_count": null,
   "metadata": {
    "id": "n6ctxj06KItb",
    "executionInfo": {
     "status": "aborted",
     "timestamp": 1667384608023,
     "user_tz": -60,
     "elapsed": 27,
     "user": {
      "displayName": "Bojian Yin",
      "userId": "07330428852648629936"
     }
    },
    "pycharm": {
     "name": "#%%\n"
    }
   },
   "outputs": [],
   "source": []
  },
  {
   "cell_type": "code",
   "execution_count": null,
   "metadata": {
    "id": "kiKO5O_EZ4M1",
    "executionInfo": {
     "status": "aborted",
     "timestamp": 1667384608023,
     "user_tz": -60,
     "elapsed": 26,
     "user": {
      "displayName": "Bojian Yin",
      "userId": "07330428852648629936"
     }
    },
    "pycharm": {
     "name": "#%%\n"
    }
   },
   "outputs": [],
   "source": []
  }
 ],
 "metadata": {
  "accelerator": "GPU",
  "colab": {
   "collapsed_sections": [],
   "provenance": []
  },
  "gpuClass": "standard",
  "kernelspec": {
   "display_name": "Python 3.8.10 64-bit",
   "language": "python",
   "name": "python3"
  },
  "language_info": {
   "codemirror_mode": {
    "name": "ipython",
    "version": 3
   },
   "file_extension": ".py",
   "mimetype": "text/x-python",
   "name": "python",
   "nbconvert_exporter": "python",
   "pygments_lexer": "ipython3",
   "version": "3.8.10"
  },
  "vscode": {
   "interpreter": {
    "hash": "767d51c1340bd893661ea55ea3124f6de3c7a262a8b4abca0554b478b1e2ff90"
   }
  }
 },
 "nbformat": 4,
 "nbformat_minor": 0
}